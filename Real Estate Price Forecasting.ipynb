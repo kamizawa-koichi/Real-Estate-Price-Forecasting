{
 "cells": [
  {
   "cell_type": "markdown",
   "id": "7e5a4bc7-c1c0-4abb-bc4d-b2add7ea763a",
   "metadata": {
    "tags": []
   },
   "source": [
    "## Nishika　中古マンション価格予測 2022夏の部\n",
    "https://www.nishika.com/competitions/34/summary\n",
    "\n",
    "概要  \n",
    "・目的変数は、取引価格（総額）について常用対数をとった「取引価格（総額）_log」  \n",
    "・予測精度の評価は、MAE\n",
    "\n",
    "最終提出ファイル  \n",
    "・LightGBMにて、目的変数を①『取引価格（総額）_log』、②『坪単価』の２つのモデルを作成    \n",
    "・optunaにて部分的なベストパラメータの探索を複数回行った上、それらでの予測の平均値から最終予測値を算出\n",
    "\n",
    "最終スコア：0.074365  \n",
    "最終順位：497人参加中、10位"
   ]
  },
  {
   "cell_type": "markdown",
   "id": "fecdf590-5cea-4bd3-bad1-8d23eadb5d1f",
   "metadata": {
    "jp-MarkdownHeadingCollapsed": true,
    "tags": []
   },
   "source": [
    "## "
   ]
  },
  {
   "cell_type": "markdown",
   "id": "083c78ab-4b6e-43f9-9c2d-fce19158723c",
   "metadata": {
    "jp-MarkdownHeadingCollapsed": true,
    "tags": []
   },
   "source": [
    "## 準備\n",
    "\n",
    "・必要なライブラリーをimport"
   ]
  },
  {
   "cell_type": "code",
   "execution_count": 1,
   "id": "0b59d065-aa4a-4ecb-ab62-e87cd7756a4c",
   "metadata": {},
   "outputs": [],
   "source": [
    "import pandas as pd\n",
    "import seaborn as sns\n",
    "import numpy as np\n",
    "import matplotlib.pyplot as plt\n",
    "import japanize_matplotlib\n",
    "import glob\n",
    "import lightgbm as lgb\n",
    "import warnings\n",
    "warnings.simplefilter('ignore', FutureWarning)\n",
    "from sklearn.model_selection import train_test_split\n",
    "from sklearn.metrics import accuracy_score\n",
    "from sklearn.metrics import mean_absolute_error"
   ]
  },
  {
   "cell_type": "markdown",
   "id": "a4f0b13a-de2f-48be-9856-adf0c6be8ce3",
   "metadata": {
    "jp-MarkdownHeadingCollapsed": true,
    "tags": []
   },
   "source": [
    "## データの読み込みと大まかな中身の確認\n",
    "\n",
    "・都道府県ごとにcsvデータとして保管されているため、一つにまとめて読み込み、基本統計量などを確認していく"
   ]
  },
  {
   "cell_type": "code",
   "execution_count": 2,
   "id": "65dc0235-daa1-4db0-ad60-3de722412223",
   "metadata": {},
   "outputs": [],
   "source": [
    "# 47都道府県ごとのデータCVRを一つのCVRにまとめる\n",
    "train_data = glob.glob('./train/*.csv')\n",
    "train_list = []\n",
    "for file in train_data:\n",
    "    train_list.append(pd.read_csv(file, encoding='cp932'))\n",
    "    train = pd.concat(train_list, axis=0, sort=True)"
   ]
  },
  {
   "cell_type": "code",
   "execution_count": 3,
   "id": "f7618e76-65cf-4e97-adbc-1ac3ba499a5b",
   "metadata": {},
   "outputs": [
    {
     "data": {
      "text/html": [
       "<div>\n",
       "<style scoped>\n",
       "    .dataframe tbody tr th:only-of-type {\n",
       "        vertical-align: middle;\n",
       "    }\n",
       "\n",
       "    .dataframe tbody tr th {\n",
       "        vertical-align: top;\n",
       "    }\n",
       "\n",
       "    .dataframe thead th {\n",
       "        text-align: right;\n",
       "    }\n",
       "</style>\n",
       "<table border=\"1\" class=\"dataframe\">\n",
       "  <thead>\n",
       "    <tr style=\"text-align: right;\">\n",
       "      <th></th>\n",
       "      <th>ID</th>\n",
       "      <th>今後の利用目的</th>\n",
       "      <th>前面道路：幅員（ｍ）</th>\n",
       "      <th>前面道路：方位</th>\n",
       "      <th>前面道路：種類</th>\n",
       "      <th>取引の事情等</th>\n",
       "      <th>取引価格（総額）_log</th>\n",
       "      <th>取引時点</th>\n",
       "      <th>土地の形状</th>\n",
       "      <th>地区名</th>\n",
       "      <th>...</th>\n",
       "      <th>改装</th>\n",
       "      <th>最寄駅：名称</th>\n",
       "      <th>最寄駅：距離（分）</th>\n",
       "      <th>用途</th>\n",
       "      <th>種類</th>\n",
       "      <th>都市計画</th>\n",
       "      <th>都道府県名</th>\n",
       "      <th>間取り</th>\n",
       "      <th>間口</th>\n",
       "      <th>面積（㎡）</th>\n",
       "    </tr>\n",
       "  </thead>\n",
       "  <tbody>\n",
       "    <tr>\n",
       "      <th>0</th>\n",
       "      <td>1000809</td>\n",
       "      <td>事務所</td>\n",
       "      <td>NaN</td>\n",
       "      <td>NaN</td>\n",
       "      <td>NaN</td>\n",
       "      <td>NaN</td>\n",
       "      <td>6.963788</td>\n",
       "      <td>2019年第3四半期</td>\n",
       "      <td>NaN</td>\n",
       "      <td>北１条西</td>\n",
       "      <td>...</td>\n",
       "      <td>改装済</td>\n",
       "      <td>西１８丁目</td>\n",
       "      <td>5</td>\n",
       "      <td>NaN</td>\n",
       "      <td>中古マンション等</td>\n",
       "      <td>商業地域</td>\n",
       "      <td>北海道</td>\n",
       "      <td>オープンフロア</td>\n",
       "      <td>NaN</td>\n",
       "      <td>85</td>\n",
       "    </tr>\n",
       "    <tr>\n",
       "      <th>1</th>\n",
       "      <td>1108719</td>\n",
       "      <td>NaN</td>\n",
       "      <td>NaN</td>\n",
       "      <td>NaN</td>\n",
       "      <td>NaN</td>\n",
       "      <td>NaN</td>\n",
       "      <td>7.000000</td>\n",
       "      <td>2013年第1四半期</td>\n",
       "      <td>NaN</td>\n",
       "      <td>浪花町</td>\n",
       "      <td>...</td>\n",
       "      <td>未改装</td>\n",
       "      <td>釧路</td>\n",
       "      <td>10</td>\n",
       "      <td>住宅</td>\n",
       "      <td>中古マンション等</td>\n",
       "      <td>第１種住居地域</td>\n",
       "      <td>北海道</td>\n",
       "      <td>３ＬＤＫ</td>\n",
       "      <td>NaN</td>\n",
       "      <td>70</td>\n",
       "    </tr>\n",
       "    <tr>\n",
       "      <th>2</th>\n",
       "      <td>1028203</td>\n",
       "      <td>住宅</td>\n",
       "      <td>NaN</td>\n",
       "      <td>NaN</td>\n",
       "      <td>NaN</td>\n",
       "      <td>NaN</td>\n",
       "      <td>7.301030</td>\n",
       "      <td>2019年第4四半期</td>\n",
       "      <td>NaN</td>\n",
       "      <td>北４４条東</td>\n",
       "      <td>...</td>\n",
       "      <td>改装済</td>\n",
       "      <td>栄町(札幌)</td>\n",
       "      <td>5</td>\n",
       "      <td>住宅</td>\n",
       "      <td>中古マンション等</td>\n",
       "      <td>第１種住居地域</td>\n",
       "      <td>北海道</td>\n",
       "      <td>３ＬＤＫ</td>\n",
       "      <td>NaN</td>\n",
       "      <td>70</td>\n",
       "    </tr>\n",
       "    <tr>\n",
       "      <th>3</th>\n",
       "      <td>1040438</td>\n",
       "      <td>NaN</td>\n",
       "      <td>NaN</td>\n",
       "      <td>NaN</td>\n",
       "      <td>NaN</td>\n",
       "      <td>NaN</td>\n",
       "      <td>7.255273</td>\n",
       "      <td>2009年第2四半期</td>\n",
       "      <td>NaN</td>\n",
       "      <td>月寒中央通</td>\n",
       "      <td>...</td>\n",
       "      <td>未改装</td>\n",
       "      <td>福住</td>\n",
       "      <td>4</td>\n",
       "      <td>住宅</td>\n",
       "      <td>中古マンション等</td>\n",
       "      <td>準工業地域</td>\n",
       "      <td>北海道</td>\n",
       "      <td>３ＬＤＫ</td>\n",
       "      <td>NaN</td>\n",
       "      <td>85</td>\n",
       "    </tr>\n",
       "    <tr>\n",
       "      <th>4</th>\n",
       "      <td>1100395</td>\n",
       "      <td>住宅</td>\n",
       "      <td>NaN</td>\n",
       "      <td>NaN</td>\n",
       "      <td>NaN</td>\n",
       "      <td>NaN</td>\n",
       "      <td>6.361728</td>\n",
       "      <td>2017年第1四半期</td>\n",
       "      <td>NaN</td>\n",
       "      <td>宮下通</td>\n",
       "      <td>...</td>\n",
       "      <td>未改装</td>\n",
       "      <td>旭川</td>\n",
       "      <td>3</td>\n",
       "      <td>住宅</td>\n",
       "      <td>中古マンション等</td>\n",
       "      <td>商業地域</td>\n",
       "      <td>北海道</td>\n",
       "      <td>１Ｋ</td>\n",
       "      <td>NaN</td>\n",
       "      <td>20</td>\n",
       "    </tr>\n",
       "  </tbody>\n",
       "</table>\n",
       "<p>5 rows × 28 columns</p>\n",
       "</div>"
      ],
      "text/plain": [
       "        ID 今後の利用目的  前面道路：幅員（ｍ）  前面道路：方位  前面道路：種類 取引の事情等  取引価格（総額）_log  \\\n",
       "0  1000809     事務所         NaN      NaN      NaN    NaN      6.963788   \n",
       "1  1108719     NaN         NaN      NaN      NaN    NaN      7.000000   \n",
       "2  1028203      住宅         NaN      NaN      NaN    NaN      7.301030   \n",
       "3  1040438     NaN         NaN      NaN      NaN    NaN      7.255273   \n",
       "4  1100395      住宅         NaN      NaN      NaN    NaN      6.361728   \n",
       "\n",
       "         取引時点  土地の形状    地区名  ...   改装  最寄駅：名称  最寄駅：距離（分）   用途        種類  \\\n",
       "0  2019年第3四半期    NaN   北１条西  ...  改装済   西１８丁目          5  NaN  中古マンション等   \n",
       "1  2013年第1四半期    NaN    浪花町  ...  未改装      釧路         10   住宅  中古マンション等   \n",
       "2  2019年第4四半期    NaN  北４４条東  ...  改装済  栄町(札幌)          5   住宅  中古マンション等   \n",
       "3  2009年第2四半期    NaN  月寒中央通  ...  未改装      福住          4   住宅  中古マンション等   \n",
       "4  2017年第1四半期    NaN    宮下通  ...  未改装      旭川          3   住宅  中古マンション等   \n",
       "\n",
       "      都市計画 都道府県名      間取り  間口 面積（㎡）  \n",
       "0     商業地域   北海道  オープンフロア NaN    85  \n",
       "1  第１種住居地域   北海道     ３ＬＤＫ NaN    70  \n",
       "2  第１種住居地域   北海道     ３ＬＤＫ NaN    70  \n",
       "3    準工業地域   北海道     ３ＬＤＫ NaN    85  \n",
       "4     商業地域   北海道       １Ｋ NaN    20  \n",
       "\n",
       "[5 rows x 28 columns]"
      ]
     },
     "execution_count": 3,
     "metadata": {},
     "output_type": "execute_result"
    }
   ],
   "source": [
    "train.head()"
   ]
  },
  {
   "cell_type": "code",
   "execution_count": 4,
   "id": "4a390020-3256-4156-a359-81635b1a0d7e",
   "metadata": {},
   "outputs": [
    {
     "data": {
      "text/html": [
       "<div>\n",
       "<style scoped>\n",
       "    .dataframe tbody tr th:only-of-type {\n",
       "        vertical-align: middle;\n",
       "    }\n",
       "\n",
       "    .dataframe tbody tr th {\n",
       "        vertical-align: top;\n",
       "    }\n",
       "\n",
       "    .dataframe thead th {\n",
       "        text-align: right;\n",
       "    }\n",
       "</style>\n",
       "<table border=\"1\" class=\"dataframe\">\n",
       "  <thead>\n",
       "    <tr style=\"text-align: right;\">\n",
       "      <th></th>\n",
       "      <th>ID</th>\n",
       "      <th>前面道路：幅員（ｍ）</th>\n",
       "      <th>前面道路：方位</th>\n",
       "      <th>前面道路：種類</th>\n",
       "      <th>取引価格（総額）_log</th>\n",
       "      <th>土地の形状</th>\n",
       "      <th>地域</th>\n",
       "      <th>容積率（％）</th>\n",
       "      <th>市区町村コード</th>\n",
       "      <th>延床面積（㎡）</th>\n",
       "      <th>建ぺい率（％）</th>\n",
       "      <th>間口</th>\n",
       "    </tr>\n",
       "  </thead>\n",
       "  <tbody>\n",
       "    <tr>\n",
       "      <th>count</th>\n",
       "      <td>7.225740e+05</td>\n",
       "      <td>0.0</td>\n",
       "      <td>0.0</td>\n",
       "      <td>0.0</td>\n",
       "      <td>722574.000000</td>\n",
       "      <td>0.0</td>\n",
       "      <td>0.0</td>\n",
       "      <td>698413.000000</td>\n",
       "      <td>722574.000000</td>\n",
       "      <td>0.0</td>\n",
       "      <td>698413.000000</td>\n",
       "      <td>0.0</td>\n",
       "    </tr>\n",
       "    <tr>\n",
       "      <th>mean</th>\n",
       "      <td>1.849089e+07</td>\n",
       "      <td>NaN</td>\n",
       "      <td>NaN</td>\n",
       "      <td>NaN</td>\n",
       "      <td>7.227968</td>\n",
       "      <td>NaN</td>\n",
       "      <td>NaN</td>\n",
       "      <td>302.514787</td>\n",
       "      <td>18517.026688</td>\n",
       "      <td>NaN</td>\n",
       "      <td>67.668886</td>\n",
       "      <td>NaN</td>\n",
       "    </tr>\n",
       "    <tr>\n",
       "      <th>std</th>\n",
       "      <td>9.564795e+06</td>\n",
       "      <td>NaN</td>\n",
       "      <td>NaN</td>\n",
       "      <td>NaN</td>\n",
       "      <td>0.355394</td>\n",
       "      <td>NaN</td>\n",
       "      <td>NaN</td>\n",
       "      <td>148.299154</td>\n",
       "      <td>9593.618981</td>\n",
       "      <td>NaN</td>\n",
       "      <td>10.411635</td>\n",
       "      <td>NaN</td>\n",
       "    </tr>\n",
       "    <tr>\n",
       "      <th>min</th>\n",
       "      <td>1.000003e+06</td>\n",
       "      <td>NaN</td>\n",
       "      <td>NaN</td>\n",
       "      <td>NaN</td>\n",
       "      <td>2.653213</td>\n",
       "      <td>NaN</td>\n",
       "      <td>NaN</td>\n",
       "      <td>50.000000</td>\n",
       "      <td>1101.000000</td>\n",
       "      <td>NaN</td>\n",
       "      <td>30.000000</td>\n",
       "      <td>NaN</td>\n",
       "    </tr>\n",
       "    <tr>\n",
       "      <th>25%</th>\n",
       "      <td>1.306853e+07</td>\n",
       "      <td>NaN</td>\n",
       "      <td>NaN</td>\n",
       "      <td>NaN</td>\n",
       "      <td>7.041393</td>\n",
       "      <td>NaN</td>\n",
       "      <td>NaN</td>\n",
       "      <td>200.000000</td>\n",
       "      <td>13107.000000</td>\n",
       "      <td>NaN</td>\n",
       "      <td>60.000000</td>\n",
       "      <td>NaN</td>\n",
       "    </tr>\n",
       "    <tr>\n",
       "      <th>50%</th>\n",
       "      <td>1.402947e+07</td>\n",
       "      <td>NaN</td>\n",
       "      <td>NaN</td>\n",
       "      <td>NaN</td>\n",
       "      <td>7.278754</td>\n",
       "      <td>NaN</td>\n",
       "      <td>NaN</td>\n",
       "      <td>200.000000</td>\n",
       "      <td>14104.000000</td>\n",
       "      <td>NaN</td>\n",
       "      <td>60.000000</td>\n",
       "      <td>NaN</td>\n",
       "    </tr>\n",
       "    <tr>\n",
       "      <th>75%</th>\n",
       "      <td>2.703502e+07</td>\n",
       "      <td>NaN</td>\n",
       "      <td>NaN</td>\n",
       "      <td>NaN</td>\n",
       "      <td>7.462398</td>\n",
       "      <td>NaN</td>\n",
       "      <td>NaN</td>\n",
       "      <td>400.000000</td>\n",
       "      <td>27114.000000</td>\n",
       "      <td>NaN</td>\n",
       "      <td>80.000000</td>\n",
       "      <td>NaN</td>\n",
       "    </tr>\n",
       "    <tr>\n",
       "      <th>max</th>\n",
       "      <td>4.703512e+07</td>\n",
       "      <td>NaN</td>\n",
       "      <td>NaN</td>\n",
       "      <td>NaN</td>\n",
       "      <td>9.934498</td>\n",
       "      <td>NaN</td>\n",
       "      <td>NaN</td>\n",
       "      <td>1300.000000</td>\n",
       "      <td>47213.000000</td>\n",
       "      <td>NaN</td>\n",
       "      <td>80.000000</td>\n",
       "      <td>NaN</td>\n",
       "    </tr>\n",
       "  </tbody>\n",
       "</table>\n",
       "</div>"
      ],
      "text/plain": [
       "                 ID  前面道路：幅員（ｍ）  前面道路：方位  前面道路：種類   取引価格（総額）_log  土地の形状   地域  \\\n",
       "count  7.225740e+05         0.0      0.0      0.0  722574.000000    0.0  0.0   \n",
       "mean   1.849089e+07         NaN      NaN      NaN       7.227968    NaN  NaN   \n",
       "std    9.564795e+06         NaN      NaN      NaN       0.355394    NaN  NaN   \n",
       "min    1.000003e+06         NaN      NaN      NaN       2.653213    NaN  NaN   \n",
       "25%    1.306853e+07         NaN      NaN      NaN       7.041393    NaN  NaN   \n",
       "50%    1.402947e+07         NaN      NaN      NaN       7.278754    NaN  NaN   \n",
       "75%    2.703502e+07         NaN      NaN      NaN       7.462398    NaN  NaN   \n",
       "max    4.703512e+07         NaN      NaN      NaN       9.934498    NaN  NaN   \n",
       "\n",
       "              容積率（％）        市区町村コード  延床面積（㎡）        建ぺい率（％）   間口  \n",
       "count  698413.000000  722574.000000      0.0  698413.000000  0.0  \n",
       "mean      302.514787   18517.026688      NaN      67.668886  NaN  \n",
       "std       148.299154    9593.618981      NaN      10.411635  NaN  \n",
       "min        50.000000    1101.000000      NaN      30.000000  NaN  \n",
       "25%       200.000000   13107.000000      NaN      60.000000  NaN  \n",
       "50%       200.000000   14104.000000      NaN      60.000000  NaN  \n",
       "75%       400.000000   27114.000000      NaN      80.000000  NaN  \n",
       "max      1300.000000   47213.000000      NaN      80.000000  NaN  "
      ]
     },
     "execution_count": 4,
     "metadata": {},
     "output_type": "execute_result"
    }
   ],
   "source": [
    "train.describe()"
   ]
  },
  {
   "cell_type": "code",
   "execution_count": 5,
   "id": "ffe3c17b-ad4f-4037-a993-0190b6c14be8",
   "metadata": {},
   "outputs": [
    {
     "data": {
      "text/plain": [
       "<AxesSubplot:xlabel='取引価格（総額）_log', ylabel='Density'>"
      ]
     },
     "execution_count": 5,
     "metadata": {},
     "output_type": "execute_result"
    },
    {
     "data": {
      "image/png": "[encoded data removed]",
      "text/plain": [
       "<Figure size 432x288 with 1 Axes>"
      ]
     },
     "metadata": {
      "needs_background": "light"
     },
     "output_type": "display_data"
    }
   ],
   "source": [
    "sns.distplot(train[\"取引価格（総額）_log\"])"
   ]
  },
  {
   "cell_type": "code",
   "execution_count": 6,
   "id": "698cb550-59ab-48de-996d-3a0641e5346a",
   "metadata": {},
   "outputs": [
    {
     "data": {
      "text/plain": [
       "ID                int64\n",
       "今後の利用目的          object\n",
       "前面道路：幅員（ｍ）      float64\n",
       "前面道路：方位         float64\n",
       "前面道路：種類         float64\n",
       "取引の事情等           object\n",
       "取引価格（総額）_log    float64\n",
       "取引時点             object\n",
       "土地の形状           float64\n",
       "地区名              object\n",
       "地域              float64\n",
       "容積率（％）          float64\n",
       "市区町村コード           int64\n",
       "市区町村名            object\n",
       "延床面積（㎡）         float64\n",
       "建ぺい率（％）         float64\n",
       "建物の構造            object\n",
       "建築年              object\n",
       "改装               object\n",
       "最寄駅：名称           object\n",
       "最寄駅：距離（分）        object\n",
       "用途               object\n",
       "種類               object\n",
       "都市計画             object\n",
       "都道府県名            object\n",
       "間取り              object\n",
       "間口              float64\n",
       "面積（㎡）            object\n",
       "dtype: object"
      ]
     },
     "execution_count": 6,
     "metadata": {},
     "output_type": "execute_result"
    }
   ],
   "source": [
    "train.dtypes"
   ]
  },
  {
   "cell_type": "code",
   "execution_count": 7,
   "id": "4a74889b-679f-4b53-9f38-a17e7e280504",
   "metadata": {},
   "outputs": [
    {
     "data": {
      "text/plain": [
       "Index(['ID', '今後の利用目的', '前面道路：幅員（ｍ）', '前面道路：方位', '前面道路：種類', '取引の事情等',\n",
       "       '取引価格（総額）_log', '取引時点', '土地の形状', '地区名', '地域', '容積率（％）', '市区町村コード',\n",
       "       '市区町村名', '延床面積（㎡）', '建ぺい率（％）', '建物の構造', '建築年', '改装', '最寄駅：名称',\n",
       "       '最寄駅：距離（分）', '用途', '種類', '都市計画', '都道府県名', '間取り', '間口', '面積（㎡）'],\n",
       "      dtype='object')"
      ]
     },
     "execution_count": 7,
     "metadata": {},
     "output_type": "execute_result"
    }
   ],
   "source": [
    "train.columns"
   ]
  },
  {
   "cell_type": "code",
   "execution_count": 9,
   "id": "1d78e036-bc03-4662-a8c9-360498329410",
   "metadata": {},
   "outputs": [
    {
     "data": {
      "text/plain": [
       "ID              0.000000\n",
       "今後の利用目的         0.506412\n",
       "前面道路：幅員（ｍ）      1.000000\n",
       "前面道路：方位         1.000000\n",
       "前面道路：種類         1.000000\n",
       "取引の事情等          0.973785\n",
       "取引価格（総額）_log    0.000000\n",
       "取引時点            0.000000\n",
       "土地の形状           1.000000\n",
       "地区名             0.000924\n",
       "地域              1.000000\n",
       "容積率（％）          0.033437\n",
       "市区町村コード         0.000000\n",
       "市区町村名           0.000000\n",
       "延床面積（㎡）         1.000000\n",
       "建ぺい率（％）         0.033437\n",
       "建物の構造           0.026505\n",
       "建築年             0.029771\n",
       "改装              0.094213\n",
       "最寄駅：名称          0.003780\n",
       "最寄駅：距離（分）       0.032048\n",
       "用途              0.098067\n",
       "種類              0.000000\n",
       "都市計画            0.027427\n",
       "都道府県名           0.000000\n",
       "間取り             0.035833\n",
       "間口              1.000000\n",
       "面積（㎡）           0.000012\n",
       "dtype: float64"
      ]
     },
     "execution_count": 9,
     "metadata": {},
     "output_type": "execute_result"
    }
   ],
   "source": [
    "# 欠損値の割合の確認\n",
    "NaN_sum = train.isnull().sum()\n",
    "rate_NaN = NaN_sum / train.shape[0]\n",
    "rate_NaN"
   ]
  },
  {
   "cell_type": "markdown",
   "id": "4ccc30d9-a6ed-4611-9bfe-8a79a22faf8b",
   "metadata": {
    "tags": []
   },
   "source": [
    "## 前処理\n",
    "\n",
    "・一定以上の欠損値を含む列を削除  \n",
    "・建築年に関して、\"1996/07/14\",\"昭和35年\",\"平成元年\"と分類されていたため、すべて西暦に変換  \n",
    "・面積、距離に関して、数値と文字列が混合していたため。すべて任意の数値に変換  \n",
    "・取引年に関して、〇年第〇半期という表記だったため、4半期ごとに[0.25, 0.50, 0.75, 0.99]へと数値型に変換"
   ]
  },
  {
   "cell_type": "code",
   "execution_count": 11,
   "id": "6b11f73a-354c-44a8-a335-57d44247c349",
   "metadata": {},
   "outputs": [],
   "source": [
    "# 一定以上の欠損値を含む列を削除\n",
    "def drop_manyNuNcolumns(train,rate):\n",
    "    NaN_sum = train.isnull().sum()\n",
    "    rate_NaN = NaN_sum / train.shape[0]\n",
    "    drop_list = list()\n",
    "    for i in range(rate_NaN.shape[0]-1):\n",
    "        if rate_NaN[i] > rate:\n",
    "            drop_list.append(i)\n",
    "        else:\n",
    "            pass\n",
    "    return train.drop(train.columns[drop_list], axis=1)\n",
    "train = drop_manyNuNcolumns(train,1)"
   ]
  },
  {
   "cell_type": "code",
   "execution_count": 12,
   "id": "24bc4e92-eea8-48bd-bf2e-3b06e2c624e6",
   "metadata": {},
   "outputs": [],
   "source": [
    "#建築年\n",
    "def convert_wareki_to_seireki(year):\n",
    "    if year == year:\n",
    "        if year == '戦前':\n",
    "            year = '昭和20年'\n",
    "\n",
    "    #ある文字列を指定して、元々西暦の行は対象外に\n",
    "        value = year[2:-1]\n",
    "        if '/' in value:\n",
    "            year = year[:4]\n",
    "        elif '元' in value:\n",
    "            value = 1\n",
    "        else:\n",
    "            value = int(value)\n",
    "            \n",
    "    #和暦ごとに年数を足す          \n",
    "        if '昭和' in year:\n",
    "            year = 1925+value\n",
    "        elif '平成' in year:\n",
    "            year = 1988+value\n",
    "        elif '令和' in year:\n",
    "            year = 2018+value\n",
    "        else:\n",
    "            pass\n",
    "        return year\n",
    "\n",
    "train['建築年'] = train['建築年'].apply(convert_wareki_to_seireki).astype(float)  # データフレームに関数を適用するときはapplyを利用\n",
    "\n",
    "#面積：2000㎡以上を削除\n",
    "train = train.drop(train[(train['面積（㎡）'] == \"2000㎡以上\")].index, axis=0)\n",
    "\n",
    "#距離\n",
    "    #対象の文字列を数値に変換するリストを作成する\n",
    "dis = {\"30分?60分\": 45, \"1H?1H30\": 75, \"1H30?2H\": 105, \"2H?\": 120,}\n",
    "\n",
    "    #float型に変換して再設定\n",
    "train[\"最寄駅：距離（分）\"] = train[\"最寄駅：距離（分）\"].replace(dis).astype(float)\n",
    "\n",
    "#取引時点\n",
    "year = {\n",
    "    \"年第1四半期\": \".25\",\n",
    "    \"年第2四半期\": \".5\",\n",
    "    \"年第3四半期\": \".75\",\n",
    "    \"年第4四半期\": \".99\",\n",
    "}\n",
    "year_list = {}\n",
    "year_replace = \"\"\n",
    "\n",
    "for i in train[\"取引時点\"].value_counts().keys():\n",
    "    for k, j in year.items():\n",
    "        if k in i:\n",
    "            year_replace = i.replace(k,j)\n",
    "    year_list[i] = year_replace\n",
    "\n",
    "train[\"取引時点\"] = train[\"取引時点\"].replace(year_list).astype(float)"
   ]
  },
  {
   "cell_type": "code",
   "execution_count": 13,
   "id": "fe960b50-6b92-4557-a022-7b3ef51c0767",
   "metadata": {},
   "outputs": [],
   "source": [
    "#変数選択\n",
    "col_name =['取引の事情等', '市区町村名', '都道府県名', '地区名', '最寄駅：名称', '最寄駅：距離（分）', '間取り', '面積（㎡）', '建築年','建物の構造', '用途', '今後の利用目的', '都市計画', '建ぺい率（％）', '容積率（％）', '取引時点', '改装']\n",
    "cat_cols = ['今後の利用目的','取引の事情等', '地区名','建物の構造', '改装', '最寄駅：名称', '用途', '都市計画', '都道府県名', '間取り']"
   ]
  },
  {
   "cell_type": "code",
   "execution_count": 14,
   "id": "52423a29-bae5-4978-ad3f-6225efd3ac96",
   "metadata": {},
   "outputs": [],
   "source": [
    "#optuna実行のための欠損値補完\n",
    "train[cat_cols] = train[cat_cols].fillna(\"欠損\")\n",
    "train[\"面積（㎡）\"] = train[\"面積（㎡）\"].fillna(10)"
   ]
  },
  {
   "cell_type": "code",
   "execution_count": 15,
   "id": "6d4e07f0-a4a9-4ed4-bad3-98cbdc2b6194",
   "metadata": {},
   "outputs": [],
   "source": [
    "train[col_name] = train[col_name].fillna(0)"
   ]
  },
  {
   "cell_type": "markdown",
   "id": "66706fa4-2bb2-41dd-a22a-7fbdeecb1843",
   "metadata": {
    "jp-MarkdownHeadingCollapsed": true,
    "tags": []
   },
   "source": [
    "## 探索：複数パターンのデータセットの作成\n",
    "\n",
    "・#1 新たな目的変数の坪単価の生成  \n",
    "・#2 説明不可と思われるデータの抽出、および削除  \n",
    "・#3 平均から遠い取引価格の削除  \n",
    "・#4 古い取引時点のデータの削除  \n",
    "・#5 取引時点の建築年数を追加\n",
    "\n",
    "最終ファイルでは#1,2を採択"
   ]
  },
  {
   "cell_type": "code",
   "execution_count": 11,
   "id": "bdf786cb-c7c2-42b6-b4cd-822556f277d1",
   "metadata": {},
   "outputs": [],
   "source": [
    "#1 新たな目的変数の生成\n",
    "train[\"坪単価\"]  = train[\"取引価格（総額）_log\"]- np.log10(train[\"面積（㎡）\"])"
   ]
  },
  {
   "cell_type": "code",
   "execution_count": 12,
   "id": "691f45a2-b985-41e1-8b9a-4ef26cb549f3",
   "metadata": {},
   "outputs": [],
   "source": [
    "#2 データからでは読み取れなかった（説明できない）低い価格のID\n",
    "lst= [1138834,  1006664,  8044520,  9041021,  9008590, 11027467, 11007964,\n",
    " 12094239, 12093856, 12074721, 12032149, 12040548, 13425195, 13060399,\n",
    " 13062408, 13273329, 13191588, 14259452, 14302447, 14076156, 14024861,\n",
    " 15051341, 20066281, 20061364, 20048480, 20066286, 20054022, 20066283,\n",
    " 20066279, 20054019, 20066265, 22062080, 22022421, 22087849, 22062089,\n",
    " 22022422, 23227821, 25050026, 26055250, 27126059, 27212236, 27111147,\n",
    " 27053143, 27185616, 27171327, 27099206, 28129501, 28173823, 29016611,\n",
    " 40050598, 40150244]"
   ]
  },
  {
   "cell_type": "code",
   "execution_count": 13,
   "id": "702f0131-4870-4a88-b0f2-8036d7aedc24",
   "metadata": {},
   "outputs": [],
   "source": [
    "    #上記を学習データから取り除く\n",
    "train = train[~train[\"ID\"].isin(lst)]"
   ]
  },
  {
   "cell_type": "code",
   "execution_count": 189,
   "id": "937d4998-73ea-425d-a7de-dea13077c637",
   "metadata": {},
   "outputs": [],
   "source": [
    "#3 取引価格の上下を学習から取り除く\n",
    "train = train.drop(train[(train['取引価格（総額）_log'] >= 8)].index, axis=0)\n",
    "train = train.drop(train[(train['取引価格（総額）_log'] <= 6.5)].index, axis=0)"
   ]
  },
  {
   "cell_type": "code",
   "execution_count": 233,
   "id": "c54ccb8d-54a0-4821-9406-204f4aef7e24",
   "metadata": {},
   "outputs": [],
   "source": [
    "#4 取引時点が古いものを取り除く\n",
    "train = train.sort_values('取引時点', ascending=False)[:380000]"
   ]
  },
  {
   "cell_type": "code",
   "execution_count": 22,
   "id": "82a9f3e6-5923-4731-9d8e-dacae7b505d0",
   "metadata": {},
   "outputs": [],
   "source": [
    "#5 取引時点の建築年数を追加\n",
    "train[\"取引時築年数\"]  = train[\"取引時点\"]- train[\"建築年\"]\n",
    "col_name =[\"取引時築年数\", '取引の事情等', '市区町村名', '都道府県名', '地区名', '最寄駅：名称', '最寄駅：距離（分）', '間取り', '面積（㎡）', '建築年','建物の構造', '用途', '今後の利用目的', '都市計画', '建ぺい率（％）', '容積率（％）', '取引時点', '改装']"
   ]
  },
  {
   "cell_type": "markdown",
   "id": "747a5971-4419-456f-befd-deee3e88472e",
   "metadata": {
    "jp-MarkdownHeadingCollapsed": true,
    "tags": []
   },
   "source": [
    "## モデル構築（LGBM）\n",
    "\n",
    "・目的変数を①『取引価格（総額）_log』、②『坪単価』の２つのモデルを作成    \n",
    "・optunaにて部分的なベストパラメータの探索を複数回行った上、それらでの予測の平均値から最終予測値を算出"
   ]
  },
  {
   "cell_type": "code",
   "execution_count": null,
   "id": "4361edc3-7d3f-494d-9dec-a08bcd86a070",
   "metadata": {},
   "outputs": [],
   "source": [
    "# 目的変数と説明変数の生成　モデル1\n",
    "x = train[col_name]\n",
    "y = train['取引価格（総額）_log']\n",
    "\n",
    "x.shape, y.shape"
   ]
  },
  {
   "cell_type": "code",
   "execution_count": 14,
   "id": "8108b337-b836-4dad-935e-d5c823634043",
   "metadata": {},
   "outputs": [
    {
     "data": {
      "text/plain": [
       "((722476, 17), (722476,))"
      ]
     },
     "execution_count": 14,
     "metadata": {},
     "output_type": "execute_result"
    }
   ],
   "source": [
    "# 目的変数と説明変数の生成　モデル2\n",
    "x = train[col_name]\n",
    "y = train[\"坪単価\"]\n",
    "\n",
    "x.shape, y.shape"
   ]
  },
  {
   "cell_type": "code",
   "execution_count": null,
   "id": "a57c42cb-e6a1-4d8e-9709-a5b305f04134",
   "metadata": {},
   "outputs": [],
   "source": [
    "for c in x.columns:\n",
    "    col_type = x[c].dtype\n",
    "    if col_type == 'object' or col_type.name == 'category':\n",
    "        x[c] = x[c].astype('category')"
   ]
  },
  {
   "cell_type": "code",
   "execution_count": 22,
   "id": "cff9d949-278c-44a1-a4fb-11db3504a72b",
   "metadata": {},
   "outputs": [],
   "source": [
    "#学習・テストデータへの分割\n",
    "x_train, x_test, y_train, y_test = train_test_split(x, y, test_size=0.2, random_state=0, shuffle = True)"
   ]
  },
  {
   "cell_type": "code",
   "execution_count": null,
   "id": "2f3a4578-ff7c-451b-8f4b-3192bd5c69e0",
   "metadata": {},
   "outputs": [],
   "source": [
    "#モデル構築\n",
    "trains = lgb.Dataset(x_train, y_train)\n",
    "valids = lgb.Dataset(x_test, y_test)\n",
    "\n",
    "params = {\n",
    "    'objective': 'regression_l1',\n",
    "    'metric': 'mae',\n",
    "    'max_depth': -1,\n",
    "    'subsample_freq': 1,\n",
    "    'learning_rate': 0.01,\n",
    "    \"boosting\": \"gbdt\",\n",
    "    \"verbosity\": -1,\n",
    "    \"random_state\": 42,\n",
    "    \"num_boost_round\":7000,\n",
    "    \"early_stopping_rounds\": 100,\n",
    "    'num_leaves': 3471,\n",
    "    'feature_fraction': 0.5718461362837146,\n",
    "    'bagging_fraction': 0.877025059209037,\n",
    "    'min_data_in_leaf': 19,\n",
    "    'lambda_l1': 0.4623075278206704,\n",
    "    'lambda_l2': 11.471777121126554\n",
    "}\n",
    "\n",
    "model = lgb.train(params, trains, categorical_feature = cat_cols, valid_sets = [trains, valids], keep_training_booster = True, verbose_eval =100)"
   ]
  },
  {
   "cell_type": "code",
   "execution_count": null,
   "id": "9e32e34b-97ea-432d-a9f6-095b5cc01a92",
   "metadata": {},
   "outputs": [],
   "source": [
    "#予測値の計算\n",
    "train_pred = model.predict(x_train, num_iteration=model.best_iteration)\n",
    "eval_pred = model.predict(x_test, num_iteration=model.best_iteration)"
   ]
  },
  {
   "cell_type": "code",
   "execution_count": 40,
   "id": "c190013f-2cfb-41f5-bafd-ab15fbf5d7ad",
   "metadata": {},
   "outputs": [
    {
     "name": "stdout",
     "output_type": "stream",
     "text": [
      "['MAE1 : 0.05701', 'MAE2 : 0.07644']\n"
     ]
    }
   ],
   "source": [
    "#MAEの計算\n",
    "mae1 = mean_absolute_error(y_train, train_pred)\n",
    "mae2 = mean_absolute_error(y_test, eval_pred)\n",
    "print(['MAE1 : {:.5f}'.format(mae1),'MAE2 : {:.5f}'.format(mae2)])  # {:.3f}で小数点以下は3桁で表示"
   ]
  },
  {
   "cell_type": "code",
   "execution_count": null,
   "id": "3783ab5e-af4c-44fc-883d-8926ddeddadf",
   "metadata": {
    "tags": []
   },
   "outputs": [],
   "source": [
    "#特徴量の寄与率\n",
    "importance = pd.DataFrame(model.feature_importance(importance_type='gain'), index=x_train.columns, columns=['importance'])\n",
    "importance = importance.sort_values('importance', ascending=False)\n",
    "display(importance)"
   ]
  },
  {
   "cell_type": "code",
   "execution_count": 14,
   "id": "42eccc48-c924-4c35-b482-4060c142dd44",
   "metadata": {},
   "outputs": [
    {
     "data": {
      "text/plain": [
       "<AxesSubplot:title={'center':'Feature importance'}, xlabel='Feature importance', ylabel='Features'>"
      ]
     },
     "execution_count": 16,
     "metadata": {},
     "output_type": "execute_result"
    },
    {
     "data": {
      "image/png": "[encoded data removed]",
      "text/plain": [
       "<Figure size 576x288 with 1 Axes>"
      ]
     },
     "metadata": {
      "needs_background": "light"
     },
     "output_type": "display_data"
    }
   ],
   "source": [
    "#特徴量重要度の可視化\n",
    "lgb.plot_importance(model, figsize=(8,4), max_num_features=10, importance_type='gain')"
   ]
  },
  {
   "cell_type": "markdown",
   "id": "16f62104-69d1-4a2d-8457-4e67e9dd92f7",
   "metadata": {
    "tags": []
   },
   "source": [
    "## パラメータ探索\n",
    "\n",
    "・実行に掛かる時間、およびPCスペックの都合より、部分探索を実行  \n",
    "・同じ訓練データやモデルにおいて、num_leavesの範囲を変更し、複数のモデルを作成"
   ]
  },
  {
   "cell_type": "code",
   "execution_count": null,
   "id": "994e13f4-1407-40fd-ba69-0c340382f3f9",
   "metadata": {
    "tags": []
   },
   "outputs": [],
   "source": [
    "# # 全探索\n",
    "# from optuna.integration import lightgbm as gbm\n",
    "\n",
    "# trains = lgb.Dataset(x_train, y_train)\n",
    "# valids = lgb.Dataset(x_test, y_test)\n",
    "\n",
    "# # 固定するパラメータ\n",
    "# params = {\n",
    "#     \"boosting_type\": \"gbdt\",\n",
    "#     'objective': 'regression_l1',\n",
    "#     'metric': 'mae',\n",
    "#     \"boosting\": \"gbdt\",\n",
    "#     'learning_rate': 0.1,\n",
    "#     \"verbosity\": -1,\n",
    "#     \"random_state\": 42,\n",
    "#     'subsample_freq': 1,\n",
    "# }\n",
    "\n",
    "# best_params, history = {}, []\n",
    "\n",
    "# # Optunaで（5つの）パラメータ探索\n",
    "# gbm = gbm.train(params, trains, \n",
    "#                   valid_sets=[trains, valids],\n",
    "#                   verbose_eval=100,\n",
    "#                   num_boost_round=10000,\n",
    "#                   early_stopping_rounds=50\n",
    "#                  )\n",
    "\n",
    "# # 最適なパラメータの表示\n",
    "# best_params = gbm.params\n",
    "# print(\"Best params:\", best_params)"
   ]
  },
  {
   "cell_type": "code",
   "execution_count": null,
   "id": "4e5d0d54-893f-402d-9aa2-cfd2897c0c48",
   "metadata": {},
   "outputs": [],
   "source": [
    "# 範囲指定をした上でoptuna\n",
    "# 範囲やiterationが多いとbad allocationとして止まる？\n",
    "\n",
    "import optuna\n",
    "from sklearn.metrics import mean_absolute_error\n",
    "#from optuna.integration import lightgbm as gbm\n",
    "\n",
    "def objective(trial):\n",
    "    param = {\n",
    "        'objective': 'regression_l1',\n",
    "        \"metric\": \"mae\",\n",
    "        \"max_depth\":-1,\n",
    "        'num_leaves': trial.suggest_int('num_leaves', 2500, 3500),\n",
    "        \"feature_fraction\": trial.suggest_loguniform('feature_fraction', 0.4, 0.95),\n",
    "        'subsample_freq': 1,\n",
    "        \"bagging_fraction\":trial.suggest_loguniform('bagging_fraction', 0.8, 0.98),\n",
    "        'min_data_in_leaf': trial.suggest_int('min_data_in_leaf', 2, 20),\n",
    "        'learning_rate': 0.01,\n",
    "        \"boosting\": \"gbdt\",\n",
    "        \"lambda_l1\":trial.suggest_loguniform(\"lambda_l1\", 0.1, 0.8),\n",
    "        \"lambda_l2\": trial.suggest_loguniform(\"lambda_l2\", 1, 15),\n",
    "        \"verbosity\": -1,\n",
    "        \"random_state\": 42\n",
    "    }\n",
    "\n",
    "    \n",
    "    trains = lgb.Dataset(x_train, y_train)\n",
    "    valids = lgb.Dataset(x_test, y_test,reference=trains)\n",
    "\n",
    "    model = lgb.train(\n",
    "    param,\n",
    "    trains,\n",
    "    valid_sets=[trains, valids],\n",
    "    num_boost_round=3000,\n",
    "    early_stopping_rounds=20,\n",
    "    verbose_eval =100,\n",
    "   )\n",
    "\n",
    "    eval_pred = model.predict(x_test, num_iteration=model.best_iteration)\n",
    "    mae = mean_absolute_error(y_test, eval_pred)\n",
    "    return mae\n",
    "\n",
    "study = optuna.create_study(direction=\"minimize\")\n",
    "study.optimize(objective, n_trials=3)"
   ]
  },
  {
   "cell_type": "code",
   "execution_count": 20,
   "id": "3591c574-17c4-4850-8cbf-8ea81e3d9289",
   "metadata": {},
   "outputs": [
    {
     "data": {
      "text/plain": [
       "0.06891958919303716"
      ]
     },
     "execution_count": 20,
     "metadata": {},
     "output_type": "execute_result"
    }
   ],
   "source": [
    "study.best_value"
   ]
  },
  {
   "cell_type": "code",
   "execution_count": 21,
   "id": "a9a47406-4e7a-4333-a34c-f5abd2b5b763",
   "metadata": {},
   "outputs": [
    {
     "data": {
      "text/plain": [
       "{'num_leaves': 3471,\n",
       " 'feature_fraction': 0.5718461362837146,\n",
       " 'bagging_fraction': 0.877025059209037,\n",
       " 'min_data_in_leaf': 19,\n",
       " 'lambda_l1': 0.4623075278206704,\n",
       " 'lambda_l2': 11.471777121126554}"
      ]
     },
     "execution_count": 21,
     "metadata": {},
     "output_type": "execute_result"
    }
   ],
   "source": [
    "study.best_params"
   ]
  },
  {
   "cell_type": "markdown",
   "id": "4a061bf3-a3e4-4094-9d09-5b104c7ecfee",
   "metadata": {
    "tags": []
   },
   "source": [
    "## 残差プロット、および詳細データの確認\n",
    "\n",
    "・特に取引価格が3前後などの低価格帯において、正しく予測できていないデータが50コ程存在していた  \n",
    "・目検でも法則性を判断しかねるデータであり、事故物件等なにかしらの事情があった可能性を考察した"
   ]
  },
  {
   "cell_type": "code",
   "execution_count": null,
   "id": "143bbf51-26bc-4624-a45c-517c8e520ada",
   "metadata": {},
   "outputs": [],
   "source": [
    "pred = model.predict(x, num_iteration=model.best_iteration)"
   ]
  },
  {
   "cell_type": "code",
   "execution_count": null,
   "id": "b0b39731-6932-47a4-85d7-12747b8f1b63",
   "metadata": {},
   "outputs": [],
   "source": [
    "plt.scatter(pred, pred - y, color = 'blue')      # 残差をプロット \n",
    "plt.hlines(y = 0, xmin = 5, xmax = 9, color = 'black')   # x軸に沿った直線をプロット\n",
    "plt.title('Residual Plot')                                # 図のタイトル\n",
    "plt.xlabel('Predicted Values')                            # x軸のラベル\n",
    "plt.ylabel('Residuals')                                   # y軸のラベル\n",
    "plt.grid()                                                # グリッド線を表示\n",
    "\n",
    "plt.show()                   "
   ]
  },
  {
   "cell_type": "code",
   "execution_count": null,
   "id": "cca50d2f-5caf-41a3-a245-f3168d99a30a",
   "metadata": {},
   "outputs": [],
   "source": [
    "train[\"Residuals\"] = pred - y"
   ]
  },
  {
   "cell_type": "code",
   "execution_count": null,
   "id": "623ec27a-56fb-45e8-9192-b5821301153c",
   "metadata": {},
   "outputs": [],
   "source": [
    "# train.to_csv('residual.csv', index=False)"
   ]
  },
  {
   "cell_type": "code",
   "execution_count": 14,
   "id": "edd5bdc6-7382-4d59-9f11-f1d8060495bb",
   "metadata": {},
   "outputs": [],
   "source": [
    "df = pd.read_csv(\"residual.csv\")"
   ]
  },
  {
   "cell_type": "code",
   "execution_count": 68,
   "id": "292825b6-2ffd-408d-a260-440a8c8b5963",
   "metadata": {},
   "outputs": [],
   "source": [
    "pd.set_option('display.max_columns',100)"
   ]
  },
  {
   "cell_type": "code",
   "execution_count": 15,
   "id": "b234bb98-dc80-4aa2-bb9f-0815a84e7416",
   "metadata": {},
   "outputs": [
    {
     "data": {
      "text/html": [
       "<div>\n",
       "<style scoped>\n",
       "    .dataframe tbody tr th:only-of-type {\n",
       "        vertical-align: middle;\n",
       "    }\n",
       "\n",
       "    .dataframe tbody tr th {\n",
       "        vertical-align: top;\n",
       "    }\n",
       "\n",
       "    .dataframe thead th {\n",
       "        text-align: right;\n",
       "    }\n",
       "</style>\n",
       "<table border=\"1\" class=\"dataframe\">\n",
       "  <thead>\n",
       "    <tr style=\"text-align: right;\">\n",
       "      <th></th>\n",
       "      <th>ID</th>\n",
       "      <th>取引価格（総額）_log</th>\n",
       "      <th>取引時点</th>\n",
       "      <th>容積率（％）</th>\n",
       "      <th>市区町村コード</th>\n",
       "      <th>建ぺい率（％）</th>\n",
       "      <th>建築年</th>\n",
       "      <th>最寄駅：距離（分）</th>\n",
       "      <th>面積（㎡）</th>\n",
       "      <th>Residuals</th>\n",
       "    </tr>\n",
       "  </thead>\n",
       "  <tbody>\n",
       "    <tr>\n",
       "      <th>count</th>\n",
       "      <td>5.100000e+01</td>\n",
       "      <td>51.000000</td>\n",
       "      <td>51.000000</td>\n",
       "      <td>42.000000</td>\n",
       "      <td>51.000000</td>\n",
       "      <td>42.000000</td>\n",
       "      <td>45.000000</td>\n",
       "      <td>50.000000</td>\n",
       "      <td>51.000000</td>\n",
       "      <td>51.000000</td>\n",
       "    </tr>\n",
       "    <tr>\n",
       "      <th>mean</th>\n",
       "      <td>1.899915e+07</td>\n",
       "      <td>3.703776</td>\n",
       "      <td>2013.834118</td>\n",
       "      <td>334.523810</td>\n",
       "      <td>19084.215686</td>\n",
       "      <td>68.809524</td>\n",
       "      <td>1983.733333</td>\n",
       "      <td>30.340000</td>\n",
       "      <td>55.980392</td>\n",
       "      <td>2.951928</td>\n",
       "    </tr>\n",
       "    <tr>\n",
       "      <th>std</th>\n",
       "      <td>8.233568e+06</td>\n",
       "      <td>0.893393</td>\n",
       "      <td>3.678848</td>\n",
       "      <td>157.142197</td>\n",
       "      <td>8233.080707</td>\n",
       "      <td>10.406935</td>\n",
       "      <td>10.694944</td>\n",
       "      <td>41.861584</td>\n",
       "      <td>33.091080</td>\n",
       "      <td>0.844628</td>\n",
       "    </tr>\n",
       "    <tr>\n",
       "      <th>min</th>\n",
       "      <td>1.006664e+06</td>\n",
       "      <td>2.653213</td>\n",
       "      <td>2006.990000</td>\n",
       "      <td>150.000000</td>\n",
       "      <td>1101.000000</td>\n",
       "      <td>50.000000</td>\n",
       "      <td>1956.000000</td>\n",
       "      <td>1.000000</td>\n",
       "      <td>10.000000</td>\n",
       "      <td>2.000042</td>\n",
       "    </tr>\n",
       "    <tr>\n",
       "      <th>25%</th>\n",
       "      <td>1.306140e+07</td>\n",
       "      <td>3.000000</td>\n",
       "      <td>2011.500000</td>\n",
       "      <td>200.000000</td>\n",
       "      <td>13105.000000</td>\n",
       "      <td>60.000000</td>\n",
       "      <td>1974.000000</td>\n",
       "      <td>4.000000</td>\n",
       "      <td>37.500000</td>\n",
       "      <td>2.140966</td>\n",
       "    </tr>\n",
       "    <tr>\n",
       "      <th>50%</th>\n",
       "      <td>2.006136e+07</td>\n",
       "      <td>3.176091</td>\n",
       "      <td>2013.500000</td>\n",
       "      <td>300.000000</td>\n",
       "      <td>20217.000000</td>\n",
       "      <td>60.000000</td>\n",
       "      <td>1984.000000</td>\n",
       "      <td>11.000000</td>\n",
       "      <td>55.000000</td>\n",
       "      <td>2.943825</td>\n",
       "    </tr>\n",
       "    <tr>\n",
       "      <th>75%</th>\n",
       "      <td>2.555264e+07</td>\n",
       "      <td>4.301030</td>\n",
       "      <td>2016.120000</td>\n",
       "      <td>400.000000</td>\n",
       "      <td>25654.000000</td>\n",
       "      <td>80.000000</td>\n",
       "      <td>1992.000000</td>\n",
       "      <td>22.500000</td>\n",
       "      <td>72.500000</td>\n",
       "      <td>3.945131</td>\n",
       "    </tr>\n",
       "    <tr>\n",
       "      <th>max</th>\n",
       "      <td>4.015024e+07</td>\n",
       "      <td>5.505150</td>\n",
       "      <td>2021.250000</td>\n",
       "      <td>800.000000</td>\n",
       "      <td>40135.000000</td>\n",
       "      <td>80.000000</td>\n",
       "      <td>2003.000000</td>\n",
       "      <td>120.000000</td>\n",
       "      <td>230.000000</td>\n",
       "      <td>4.121219</td>\n",
       "    </tr>\n",
       "  </tbody>\n",
       "</table>\n",
       "</div>"
      ],
      "text/plain": [
       "                 ID  取引価格（総額）_log         取引時点      容積率（％）       市区町村コード  \\\n",
       "count  5.100000e+01     51.000000    51.000000   42.000000     51.000000   \n",
       "mean   1.899915e+07      3.703776  2013.834118  334.523810  19084.215686   \n",
       "std    8.233568e+06      0.893393     3.678848  157.142197   8233.080707   \n",
       "min    1.006664e+06      2.653213  2006.990000  150.000000   1101.000000   \n",
       "25%    1.306140e+07      3.000000  2011.500000  200.000000  13105.000000   \n",
       "50%    2.006136e+07      3.176091  2013.500000  300.000000  20217.000000   \n",
       "75%    2.555264e+07      4.301030  2016.120000  400.000000  25654.000000   \n",
       "max    4.015024e+07      5.505150  2021.250000  800.000000  40135.000000   \n",
       "\n",
       "         建ぺい率（％）          建築年   最寄駅：距離（分）       面積（㎡）  Residuals  \n",
       "count  42.000000    45.000000   50.000000   51.000000  51.000000  \n",
       "mean   68.809524  1983.733333   30.340000   55.980392   2.951928  \n",
       "std    10.406935    10.694944   41.861584   33.091080   0.844628  \n",
       "min    50.000000  1956.000000    1.000000   10.000000   2.000042  \n",
       "25%    60.000000  1974.000000    4.000000   37.500000   2.140966  \n",
       "50%    60.000000  1984.000000   11.000000   55.000000   2.943825  \n",
       "75%    80.000000  1992.000000   22.500000   72.500000   3.945131  \n",
       "max    80.000000  2003.000000  120.000000  230.000000   4.121219  "
      ]
     },
     "execution_count": 15,
     "metadata": {},
     "output_type": "execute_result"
    }
   ],
   "source": [
    "df.query(\"Residuals > 2\").describe()"
   ]
  },
  {
   "cell_type": "code",
   "execution_count": 16,
   "id": "b705a983-329c-45b9-b475-35d2f428ce1e",
   "metadata": {},
   "outputs": [
    {
     "data": {
      "text/html": [
       "<div>\n",
       "<style scoped>\n",
       "    .dataframe tbody tr th:only-of-type {\n",
       "        vertical-align: middle;\n",
       "    }\n",
       "\n",
       "    .dataframe tbody tr th {\n",
       "        vertical-align: top;\n",
       "    }\n",
       "\n",
       "    .dataframe thead th {\n",
       "        text-align: right;\n",
       "    }\n",
       "</style>\n",
       "<table border=\"1\" class=\"dataframe\">\n",
       "  <thead>\n",
       "    <tr style=\"text-align: right;\">\n",
       "      <th></th>\n",
       "      <th>ID</th>\n",
       "      <th>取引価格（総額）_log</th>\n",
       "      <th>取引時点</th>\n",
       "      <th>容積率（％）</th>\n",
       "      <th>市区町村コード</th>\n",
       "      <th>建ぺい率（％）</th>\n",
       "      <th>建築年</th>\n",
       "      <th>最寄駅：距離（分）</th>\n",
       "      <th>面積（㎡）</th>\n",
       "      <th>Residuals</th>\n",
       "    </tr>\n",
       "  </thead>\n",
       "  <tbody>\n",
       "    <tr>\n",
       "      <th>count</th>\n",
       "      <td>7.225230e+05</td>\n",
       "      <td>722523.000000</td>\n",
       "      <td>722523.000000</td>\n",
       "      <td>698371.000000</td>\n",
       "      <td>722523.000000</td>\n",
       "      <td>698371.000000</td>\n",
       "      <td>701017.000000</td>\n",
       "      <td>699367.000000</td>\n",
       "      <td>722514.000000</td>\n",
       "      <td>722523.000000</td>\n",
       "    </tr>\n",
       "    <tr>\n",
       "      <th>mean</th>\n",
       "      <td>1.849085e+07</td>\n",
       "      <td>7.228217</td>\n",
       "      <td>2014.488751</td>\n",
       "      <td>302.512862</td>\n",
       "      <td>18516.986652</td>\n",
       "      <td>67.668818</td>\n",
       "      <td>1995.412506</td>\n",
       "      <td>11.661122</td>\n",
       "      <td>58.492479</td>\n",
       "      <td>0.010717</td>\n",
       "    </tr>\n",
       "    <tr>\n",
       "      <th>std</th>\n",
       "      <td>9.564887e+06</td>\n",
       "      <td>0.354093</td>\n",
       "      <td>4.336655</td>\n",
       "      <td>148.298518</td>\n",
       "      <td>9593.711911</td>\n",
       "      <td>10.411639</td>\n",
       "      <td>11.628209</td>\n",
       "      <td>12.159365</td>\n",
       "      <td>26.032090</td>\n",
       "      <td>0.108561</td>\n",
       "    </tr>\n",
       "    <tr>\n",
       "      <th>min</th>\n",
       "      <td>1.000003e+06</td>\n",
       "      <td>3.934498</td>\n",
       "      <td>2005.750000</td>\n",
       "      <td>50.000000</td>\n",
       "      <td>1101.000000</td>\n",
       "      <td>30.000000</td>\n",
       "      <td>1945.000000</td>\n",
       "      <td>0.000000</td>\n",
       "      <td>10.000000</td>\n",
       "      <td>-1.487284</td>\n",
       "    </tr>\n",
       "    <tr>\n",
       "      <th>25%</th>\n",
       "      <td>1.306853e+07</td>\n",
       "      <td>7.041393</td>\n",
       "      <td>2010.990000</td>\n",
       "      <td>200.000000</td>\n",
       "      <td>13107.000000</td>\n",
       "      <td>60.000000</td>\n",
       "      <td>1988.000000</td>\n",
       "      <td>5.000000</td>\n",
       "      <td>45.000000</td>\n",
       "      <td>-0.023338</td>\n",
       "    </tr>\n",
       "    <tr>\n",
       "      <th>50%</th>\n",
       "      <td>1.402946e+07</td>\n",
       "      <td>7.278754</td>\n",
       "      <td>2014.750000</td>\n",
       "      <td>200.000000</td>\n",
       "      <td>14104.000000</td>\n",
       "      <td>60.000000</td>\n",
       "      <td>1997.000000</td>\n",
       "      <td>8.000000</td>\n",
       "      <td>65.000000</td>\n",
       "      <td>0.000096</td>\n",
       "    </tr>\n",
       "    <tr>\n",
       "      <th>75%</th>\n",
       "      <td>2.703502e+07</td>\n",
       "      <td>7.462398</td>\n",
       "      <td>2018.250000</td>\n",
       "      <td>400.000000</td>\n",
       "      <td>27114.000000</td>\n",
       "      <td>80.000000</td>\n",
       "      <td>2005.000000</td>\n",
       "      <td>14.000000</td>\n",
       "      <td>75.000000</td>\n",
       "      <td>0.028424</td>\n",
       "    </tr>\n",
       "    <tr>\n",
       "      <th>max</th>\n",
       "      <td>4.703512e+07</td>\n",
       "      <td>9.934498</td>\n",
       "      <td>2021.500000</td>\n",
       "      <td>1300.000000</td>\n",
       "      <td>47213.000000</td>\n",
       "      <td>80.000000</td>\n",
       "      <td>2022.000000</td>\n",
       "      <td>120.000000</td>\n",
       "      <td>2000.000000</td>\n",
       "      <td>1.987666</td>\n",
       "    </tr>\n",
       "  </tbody>\n",
       "</table>\n",
       "</div>"
      ],
      "text/plain": [
       "                 ID   取引価格（総額）_log           取引時点         容積率（％）  \\\n",
       "count  7.225230e+05  722523.000000  722523.000000  698371.000000   \n",
       "mean   1.849085e+07       7.228217    2014.488751     302.512862   \n",
       "std    9.564887e+06       0.354093       4.336655     148.298518   \n",
       "min    1.000003e+06       3.934498    2005.750000      50.000000   \n",
       "25%    1.306853e+07       7.041393    2010.990000     200.000000   \n",
       "50%    1.402946e+07       7.278754    2014.750000     200.000000   \n",
       "75%    2.703502e+07       7.462398    2018.250000     400.000000   \n",
       "max    4.703512e+07       9.934498    2021.500000    1300.000000   \n",
       "\n",
       "             市区町村コード        建ぺい率（％）            建築年      最寄駅：距離（分）  \\\n",
       "count  722523.000000  698371.000000  701017.000000  699367.000000   \n",
       "mean    18516.986652      67.668818    1995.412506      11.661122   \n",
       "std      9593.711911      10.411639      11.628209      12.159365   \n",
       "min      1101.000000      30.000000    1945.000000       0.000000   \n",
       "25%     13107.000000      60.000000    1988.000000       5.000000   \n",
       "50%     14104.000000      60.000000    1997.000000       8.000000   \n",
       "75%     27114.000000      80.000000    2005.000000      14.000000   \n",
       "max     47213.000000      80.000000    2022.000000     120.000000   \n",
       "\n",
       "               面積（㎡）      Residuals  \n",
       "count  722514.000000  722523.000000  \n",
       "mean       58.492479       0.010717  \n",
       "std        26.032090       0.108561  \n",
       "min        10.000000      -1.487284  \n",
       "25%        45.000000      -0.023338  \n",
       "50%        65.000000       0.000096  \n",
       "75%        75.000000       0.028424  \n",
       "max      2000.000000       1.987666  "
      ]
     },
     "execution_count": 16,
     "metadata": {},
     "output_type": "execute_result"
    }
   ],
   "source": [
    "df.query(\"Residuals <= 2\").describe()"
   ]
  },
  {
   "cell_type": "code",
   "execution_count": null,
   "id": "c9626849-844e-4617-8ac4-7808d792f077",
   "metadata": {},
   "outputs": [],
   "source": [
    "df.query(\"Residuals > 2\")[\"ID\"].array"
   ]
  },
  {
   "cell_type": "code",
   "execution_count": 138,
   "id": "00462cec-85b7-40f0-83ae-cbba61f73b7b",
   "metadata": {},
   "outputs": [],
   "source": [
    "# [1138834,  1006664,  8044520,  9041021,  9008590, 11027467, 11007964,\n",
    "#  12094239, 12093856, 12074721, 12032149, 12040548, 13425195, 13060399,\n",
    "#  13062408, 13273329, 13191588, 14259452, 14302447, 14076156, 14024861,\n",
    "#  15051341, 20066281, 20061364, 20048480, 20066286, 20054022, 20066283,\n",
    "#  20066279, 20054019, 20066265, 22062080, 22022421, 22087849, 22062089,\n",
    "#  22022422, 23227821, 25050026, 26055250, 27126059, 27212236, 27111147,\n",
    "#  27053143, 27185616, 27171327, 27099206, 28129501, 28173823, 29016611,\n",
    "#  40050598, 40150244]"
   ]
  },
  {
   "cell_type": "markdown",
   "id": "ab269491-e20d-4950-bdac-1f4f2b4df704",
   "metadata": {
    "jp-MarkdownHeadingCollapsed": true,
    "tags": []
   },
   "source": [
    "## テストデータの前処理"
   ]
  },
  {
   "cell_type": "code",
   "execution_count": 13,
   "id": "ea23f069-f24f-47d0-911a-ea3fe128f0da",
   "metadata": {
    "tags": []
   },
   "outputs": [],
   "source": [
    "test = pd.read_csv('./test.csv',encoding='cp932')"
   ]
  },
  {
   "cell_type": "code",
   "execution_count": 14,
   "id": "aabe83f1-7d16-40d7-afd7-d5a5e93d26e6",
   "metadata": {
    "tags": []
   },
   "outputs": [],
   "source": [
    "#まとめて変換\n",
    "\n",
    "# 和暦を西暦に\n",
    "def convert_wareki_to_seireki(year):\n",
    "    if year == year:\n",
    "        if year == '戦前':\n",
    "            year = '昭和20年'\n",
    "\n",
    "#ある文字列を指定して、元々西暦の行は対象外に\n",
    "        value = year[2:-1]\n",
    "        if '/' in value:\n",
    "            year = year[:4]\n",
    "        elif '元' in value:\n",
    "            value = 1\n",
    "        else:\n",
    "            value = int(value)\n",
    "            \n",
    "#和暦ごとに年数を足す          \n",
    "        if '昭和' in year:\n",
    "            year = 1925+value\n",
    "        elif '平成' in year:\n",
    "            year = 1988+value\n",
    "        elif '令和' in year:\n",
    "            year = 2018+value\n",
    "        else:\n",
    "            pass\n",
    "        return year\n",
    "\n",
    "test['建築年'] = test['建築年'].apply(convert_wareki_to_seireki).astype(float)\n",
    "\n",
    "test[\"面積（㎡）\"] = test[\"面積（㎡）\"].replace({\"2000㎡以上\": \"2000\"}).astype(float)\n",
    "\n",
    "    #対象の文字列を数値に変換するリストを作成する\n",
    "dis = {\"30分?60分\": 45, \"1H?1H30\": 75, \"1H30?2H\": 105, \"2H?\": 120,}\n",
    "\n",
    "    #float型に変換して再設定する\n",
    "test[\"最寄駅：距離（分）\"] = test[\"最寄駅：距離（分）\"].replace(dis).astype(float)\n",
    "\n",
    "#取引時点\n",
    "year = {\n",
    "    \"年第1四半期\": \".25\",\n",
    "    \"年第2四半期\": \".5\",\n",
    "    \"年第3四半期\": \".75\",\n",
    "    \"年第4四半期\": \".99\",\n",
    "}\n",
    "year_list = {}\n",
    "year_replace = \"\"\n",
    "\n",
    "for i in test[\"取引時点\"].value_counts().keys():\n",
    "    for k, j in year.items():\n",
    "        if k in i:\n",
    "            year_replace = i.replace(k,j)\n",
    "    year_list[i] = year_replace\n",
    "\n",
    "test[\"取引時点\"] = test[\"取引時点\"].replace(year_list).astype(float)"
   ]
  },
  {
   "cell_type": "code",
   "execution_count": 15,
   "id": "8edbfd7c-8021-4904-8047-769fa4c867a4",
   "metadata": {},
   "outputs": [],
   "source": [
    "# 目的変数と説明変数の生成\n",
    "test_x = test[col_name]"
   ]
  },
  {
   "cell_type": "markdown",
   "id": "ccc0c3c1-d27f-4d9c-a38d-c499ad8ee187",
   "metadata": {
    "jp-MarkdownHeadingCollapsed": true,
    "tags": []
   },
   "source": [
    "## テストデータでの予測から提出ファイルの確認\n",
    "\n",
    "最終的には、  \n",
    "①『取引価格（総額）_log』で全データを学習したモデル、  \n",
    "②『取引価格（総額）_log』で残差<2のみデータを学習したモデル、  \n",
    "③『坪単価』で全データで学習したモデル（範囲指定のOptunaによる2パターンを用意）   \n",
    "による合算のファイルを提出"
   ]
  },
  {
   "cell_type": "code",
   "execution_count": null,
   "id": "b9187ad4-40db-45d4-b53a-70ba8ce26ae5",
   "metadata": {},
   "outputs": [],
   "source": [
    "for c in test_x.columns:\n",
    "    col_type = test_x[c].dtype\n",
    "    if col_type == 'object' or col_type.name == 'category':\n",
    "        test_x[c] = test_x[c].astype('category')"
   ]
  },
  {
   "cell_type": "code",
   "execution_count": 17,
   "id": "fa0cb045",
   "metadata": {},
   "outputs": [
    {
     "name": "stdout",
     "output_type": "stream",
     "text": [
      "21005\n"
     ]
    }
   ],
   "source": [
    "test_pred = model.predict(test_x, num_iteration = model.best_iteration) + np.log10(test[\"面積（㎡）\"])\n",
    "test_pred\n",
    "print(len(test_pred))"
   ]
  },
  {
   "cell_type": "code",
   "execution_count": null,
   "id": "42db0bcf-64b3-489b-9ee7-ec69e7c7019d",
   "metadata": {},
   "outputs": [
    {
     "data": {
      "text/html": [
       "<div>\n",
       "<style scoped>\n",
       "    .dataframe tbody tr th:only-of-type {\n",
       "        vertical-align: middle;\n",
       "    }\n",
       "\n",
       "    .dataframe tbody tr th {\n",
       "        vertical-align: top;\n",
       "    }\n",
       "\n",
       "    .dataframe thead th {\n",
       "        text-align: right;\n",
       "    }\n",
       "</style>\n",
       "<table border=\"1\" class=\"dataframe\">\n",
       "  <thead>\n",
       "    <tr style=\"text-align: right;\">\n",
       "      <th></th>\n",
       "      <th>ID</th>\n",
       "      <th>取引価格（総額）_log</th>\n",
       "    </tr>\n",
       "  </thead>\n",
       "  <tbody>\n",
       "    <tr>\n",
       "      <th>count</th>\n",
       "      <td>2.100500e+04</td>\n",
       "      <td>21005.000000</td>\n",
       "    </tr>\n",
       "    <tr>\n",
       "      <th>mean</th>\n",
       "      <td>1.875575e+07</td>\n",
       "      <td>7.308007</td>\n",
       "    </tr>\n",
       "    <tr>\n",
       "      <th>std</th>\n",
       "      <td>9.388301e+06</td>\n",
       "      <td>0.326577</td>\n",
       "    </tr>\n",
       "    <tr>\n",
       "      <th>min</th>\n",
       "      <td>1.000078e+06</td>\n",
       "      <td>5.729086</td>\n",
       "    </tr>\n",
       "    <tr>\n",
       "      <th>25%</th>\n",
       "      <td>1.307743e+07</td>\n",
       "      <td>7.128425</td>\n",
       "    </tr>\n",
       "    <tr>\n",
       "      <th>50%</th>\n",
       "      <td>1.405303e+07</td>\n",
       "      <td>7.343158</td>\n",
       "    </tr>\n",
       "    <tr>\n",
       "      <th>75%</th>\n",
       "      <td>2.706261e+07</td>\n",
       "      <td>7.523074</td>\n",
       "    </tr>\n",
       "    <tr>\n",
       "      <th>max</th>\n",
       "      <td>4.702414e+07</td>\n",
       "      <td>8.885879</td>\n",
       "    </tr>\n",
       "  </tbody>\n",
       "</table>\n",
       "</div>"
      ],
      "text/plain": [
       "                 ID  取引価格（総額）_log\n",
       "count  2.100500e+04  21005.000000\n",
       "mean   1.875575e+07      7.308007\n",
       "std    9.388301e+06      0.326577\n",
       "min    1.000078e+06      5.729086\n",
       "25%    1.307743e+07      7.128425\n",
       "50%    1.405303e+07      7.343158\n",
       "75%    2.706261e+07      7.523074\n",
       "max    4.702414e+07      8.885879"
      ]
     },
     "execution_count": 93,
     "metadata": {},
     "output_type": "execute_result"
    }
   ],
   "source": [
    "#予測ファイルの確認\n",
    "sub = pd.read_csv('./submission12.csv',encoding='cp932')\n",
    "sub.describe()"
   ]
  },
  {
   "cell_type": "code",
   "execution_count": 18,
   "id": "4dfa4a60-30b6-4d6a-97f9-a815130926e9",
   "metadata": {
    "tags": []
   },
   "outputs": [],
   "source": [
    "#提出ファイルの出力\n",
    "test['取引価格（総額）_log'] = test_pred\n",
    "sub = pd.merge(test[['ID']], test[['ID', '取引価格（総額）_log']], on='ID')\n",
    "sub.to_csv('submission18.csv', index=False)"
   ]
  },
  {
   "cell_type": "code",
   "execution_count": 20,
   "id": "deb84a42-5d77-4de7-b53e-7a20376b35a3",
   "metadata": {},
   "outputs": [],
   "source": [
    "#複数の予測ファイルより再度予測の算出\n",
    "sam1= pd.read_csv('./submission19.csv')\n",
    "sam2= pd.read_csv('./submission8.csv')\n",
    "\n",
    "sam3 = sam2\n",
    "sam3['取引価格（総額）_log'] = (sam1['取引価格（総額）_log'] + sam2['取引価格（総額）_log')/2\n",
    "\n",
    "sam3.to_csv('submission20.csv', index=False)"
   ]
  },
  {
   "cell_type": "markdown",
   "id": "3bad4b92-d9bd-42c8-8070-bb8a2cca8eb3",
   "metadata": {},
   "source": [
    "## "
   ]
  },
  {
   "cell_type": "markdown",
   "id": "452542ff-ffc3-4bf7-b04f-545326a29ed0",
   "metadata": {
    "jp-MarkdownHeadingCollapsed": true,
    "tags": []
   },
   "source": [
    "## 振り返り・感じたこと・考察など\n",
    "\n",
    "・煩雑さを考慮して、前処理はテストデータ含めて一括で行うべきであったと思う  \n",
    "・Optunaを実施しても、PCスペックの問題でearly stopがかかるまで学習できず、AWSなどを活用できれば精度が上がったかもしれない  \n",
    "　└特徴量を削除しても精度が落ちないような枠組みを作ることができれば、データ容量は下がり、現環境でも対応できたかも  \n",
    "・残差プロットを確認するなど、予測したものに対する考察と対処が不十分のように感じてはいたが、手が届かなかった  \n",
    "・LGBM以外のモデルでの精度上げについて中途半端に終わっているため、それらの実施およびスタッキングにトライしたかった"
   ]
  },
  {
   "cell_type": "markdown",
   "id": "1c9111ff-79e0-48dc-a409-72ff7661ea3c",
   "metadata": {
    "jp-MarkdownHeadingCollapsed": true,
    "tags": []
   },
   "source": [
    "## "
   ]
  },
  {
   "cell_type": "markdown",
   "id": "8c3360b2-d5de-423b-9522-2a6d04ccd32f",
   "metadata": {
    "tags": []
   },
   "source": [
    "##　以下、振り返り用メモ\n",
    "## 重回帰"
   ]
  },
  {
   "cell_type": "markdown",
   "id": "b0c65517-4807-4ea1-90b4-a3a9dc055a97",
   "metadata": {},
   "source": [
    "https://self-development.info/python%E3%81%A7%E7%B7%9A%E5%BD%A2%E5%9B%9E%E5%B8%B0%E3%81%AE%E9%87%8D%E5%9B%9E%E5%B8%B0%E5%88%86%E6%9E%90%E3%82%92%E8%A1%8C%E3%81%86%E6%96%B9%E6%B3%95%E3%80%90%E6%A9%9F%E4%BC%9A%E5%AD%A6%E7%BF%92/"
   ]
  },
  {
   "cell_type": "code",
   "execution_count": null,
   "id": "f31cd90f-1d57-4195-8762-735a00ee2568",
   "metadata": {},
   "outputs": [],
   "source": [
    "col_name = ['最寄駅：距離（分）','改装','建築年','面積（㎡）','地価偏差値（県）','容積率（％）','建ぺい率（％）']\n",
    "x = train[col_name].values\n",
    "y = train['取引価格（総額）_log'].values\n",
    "\n",
    "x.shape, y.shape"
   ]
  },
  {
   "cell_type": "code",
   "execution_count": null,
   "id": "600758be-6c41-4b37-b5be-bb02f25bbd0f",
   "metadata": {},
   "outputs": [],
   "source": [
    "from sklearn.model_selection import train_test_split\n",
    "x_train, x_test, y_train, y_test = train_test_split(x, y, test_size=0.3, random_state=0)"
   ]
  },
  {
   "cell_type": "code",
   "execution_count": null,
   "id": "29523526-df8a-43f7-bdf1-9622c4a70713",
   "metadata": {
    "tags": []
   },
   "outputs": [],
   "source": [
    "#lasso回帰＝　L1正則化による回帰\n",
    "#変数のスケールが罰則に影響を与える\n",
    "#小さな値が入る変数の係数は大きくなりがちで、罰則の影響を受けがちのため、標準化しておく\n",
    "\n",
    "from sklearn.preprocessing import StandardScaler\n",
    "scaler = StandardScaler()\n",
    "\n",
    "scaler.fit(x_train)\n",
    "x_train = scaler.transform(x_train)"
   ]
  },
  {
   "cell_type": "code",
   "execution_count": null,
   "id": "d9c6ae6c-53ed-4d59-80a7-7951d17081c2",
   "metadata": {
    "tags": []
   },
   "outputs": [],
   "source": [
    "pip install yellowbrick"
   ]
  },
  {
   "cell_type": "code",
   "execution_count": null,
   "id": "306ab6c4-16fe-4fb5-b034-801578578a3d",
   "metadata": {},
   "outputs": [],
   "source": [
    "from yellowbrick.regressor import AlphaSelection \n",
    "from sklearn.linear_model import LassoCV\n",
    "import matplotlib.pyplot as plt\n",
    "\n",
    "alphas = np.logspace(-15, -1, 500)\n",
    "model_cv = LassoCV(alphas = alphas)\n",
    "visualizer = AlphaSelection(model_cv)\n",
    "visualizer.fit(x_train, y_train)\n",
    "visualizer.show()\n",
    "plt.show()"
   ]
  },
  {
   "cell_type": "code",
   "execution_count": null,
   "id": "9d9f20d2-4fd3-4501-849d-0dd1276308df",
   "metadata": {
    "tags": []
   },
   "outputs": [],
   "source": [
    "from sklearn.linear_model import Lasso\n",
    "model = Lasso(alpha=0.001)\n",
    "model.fit(x_train, y_train)"
   ]
  },
  {
   "cell_type": "code",
   "execution_count": null,
   "id": "87510f53-6eee-4492-8b2e-a4a46ba7abd3",
   "metadata": {},
   "outputs": [],
   "source": [
    "model.intercept_, model.coef_"
   ]
  },
  {
   "cell_type": "code",
   "execution_count": null,
   "id": "eab522b0-8593-4339-90b1-85e0da77fb59",
   "metadata": {
    "tags": []
   },
   "outputs": [],
   "source": [
    "#決定係数で評価\n",
    "from sklearn.metrics import r2_score\n",
    "\n",
    "pred_train = model.predict(x_train)\n",
    "r2_score(y_true = y_train, y_pred = pred_train)"
   ]
  },
  {
   "cell_type": "code",
   "execution_count": null,
   "id": "39431da7-15ea-4f50-906f-e3bf22531cfd",
   "metadata": {},
   "outputs": [],
   "source": [
    "from sklearn.metrics import r2_score\n",
    "\n",
    "x_test = scaler.transform(x_test)\n",
    "pred_test = model.predict(x_test)\n",
    "r2_score(y_test, pred_test)"
   ]
  },
  {
   "cell_type": "code",
   "execution_count": null,
   "id": "412fc0f3-69dc-4463-85f7-3473d2ab0222",
   "metadata": {},
   "outputs": [],
   "source": [
    "#MAEの計算\n",
    "train_pred = model.predict(x_train, num_iteration=model.best_iteration)\n",
    "eval_pred = model.predict(x_test, num_iteration=model.best_iteration)\n",
    "\n",
    "from sklearn.metrics import r2_score\n",
    "train_score = r2_score(y_train, train_pred)\n",
    "eval_score = r2_score(y_test, eval_pred)\n",
    "train_score, eval_score"
   ]
  },
  {
   "cell_type": "code",
   "execution_count": null,
   "id": "3f33d946-127b-4c9b-a8a6-87282527d5e9",
   "metadata": {},
   "outputs": [],
   "source": [
    "# MAEの計算\n",
    "from sklearn.metrics import mean_absolute_error\n",
    "mae1 = mean_absolute_error(y_train, train_pred)\n",
    "mae2 = mean_absolute_error(y_test, eval_pred)\n",
    "print(['MAE1 : {:.5f}'.format(mae1),'MAE2 : {:.5f}'.format(mae2)])  # {:.3f}で小数点以下は3桁で表示"
   ]
  },
  {
   "cell_type": "markdown",
   "id": "f43ad393-113b-4b49-b64c-88ce5be6cc9e",
   "metadata": {
    "tags": []
   },
   "source": [
    "## ランダムフォレスト"
   ]
  },
  {
   "cell_type": "markdown",
   "id": "c70582d9-51a9-432e-b514-9f09e8b7db72",
   "metadata": {},
   "source": [
    "https://camp.trainocate.co.jp/magazine/python-random-forest/\n",
    "https://di-acc2.com/programming/python/13877/"
   ]
  },
  {
   "cell_type": "code",
   "execution_count": 111,
   "id": "5b50f0cf-9ac9-4782-9edd-17a39eb110a1",
   "metadata": {},
   "outputs": [],
   "source": [
    "from sklearn.model_selection import train_test_split\n",
    "from sklearn.ensemble import RandomForestRegressor\n",
    "from sklearn.metrics import accuracy_score"
   ]
  },
  {
   "cell_type": "code",
   "execution_count": 25,
   "id": "2cefa2da-7699-41ae-a617-2178f2aa13a7",
   "metadata": {},
   "outputs": [],
   "source": [
    "col_name = ['最寄駅：距離（分）','改装','建築年','面積（㎡）','地価偏差値（県）','容積率（％）','建ぺい率（％）']\n",
    "x = train[col_name].values\n",
    "y = train['取引価格（総額）_log'].values"
   ]
  },
  {
   "cell_type": "code",
   "execution_count": null,
   "id": "bbcc29fb-485d-4149-9ae5-6200c660e04d",
   "metadata": {},
   "outputs": [],
   "source": [
    "# 学習モデルを作成\n",
    "model = RandomForestRegressor(max_depth = 15)\n",
    "\n",
    "# 学習モデルにテストデータを与えて学習させる\n",
    "model.fit(x_train, y_train)"
   ]
  },
  {
   "cell_type": "code",
   "execution_count": 26,
   "id": "5b6ef5f2-35f7-4b0a-98fe-cf08165f2cd7",
   "metadata": {},
   "outputs": [
    {
     "name": "stdout",
     "output_type": "stream",
     "text": [
      "505801\n",
      "216773\n",
      "505801\n",
      "216773\n"
     ]
    }
   ],
   "source": [
    "x_train, x_test, y_train, y_test = train_test_split(\n",
    "   x, y, test_size=0.3, random_state=0)\n",
    "\n",
    "print(len(x_train)),print(len(x_test)),print(len(y_train)),print(len(y_test))"
   ]
  },
  {
   "cell_type": "code",
   "execution_count": 27,
   "id": "12d0f86a-9dd2-4663-b70b-cb27401d56be",
   "metadata": {},
   "outputs": [
    {
     "data": {
      "text/plain": [
       "RandomForestRegressor(max_depth=15)"
      ]
     },
     "execution_count": 27,
     "metadata": {},
     "output_type": "execute_result"
    }
   ],
   "source": [
    "# 学習モデルを作成\n",
    "model = RandomForestRegressor(max_depth = 15)\n",
    "\n",
    "# 学習モデルにテストデータを与えて学習させる\n",
    "model.fit(x_train, y_train)"
   ]
  },
  {
   "cell_type": "code",
   "execution_count": 28,
   "id": "062c8b8f-e261-42e9-9a65-806ef3bbbee3",
   "metadata": {},
   "outputs": [
    {
     "name": "stdout",
     "output_type": "stream",
     "text": [
      "RMSE 学習: 0.16, テスト: 0.17\n",
      "R^2 学習: 0.80, テスト: 0.76\n"
     ]
    }
   ],
   "source": [
    "from sklearn.metrics import r2_score            # 決定係数\n",
    "from sklearn.metrics import mean_squared_error  # RMSE\n",
    "\n",
    "# 予測値(Train）\n",
    "y_train_pred = model.predict(x_train)\n",
    "\n",
    "# 予測値（Test)\n",
    "y_test_pred = model.predict(x_test)\n",
    "\n",
    "# 平均平方二乗誤差(RMSE)\n",
    "print('RMSE 学習: %.2f, テスト: %.2f' % (\n",
    "        mean_squared_error(y_train, y_train_pred, squared=False), # 学習\n",
    "        mean_squared_error(y_test, y_test_pred, squared=False)    # テスト\n",
    "      ))\n",
    "\n",
    "# 決定係数(R^2)\n",
    "print('R^2 学習: %.2f, テスト: %.2f' % (\n",
    "        r2_score(y_train, y_train_pred), # 学習\n",
    "        r2_score(y_test, y_test_pred)    # テスト\n",
    "      ))"
   ]
  },
  {
   "cell_type": "code",
   "execution_count": 29,
   "id": "128d0b18-a2ec-4034-be02-03cc78f812c4",
   "metadata": {},
   "outputs": [
    {
     "data": {
      "text/plain": [
       "(0.8032101251975632, 0.7634335145469342)"
      ]
     },
     "execution_count": 29,
     "metadata": {},
     "output_type": "execute_result"
    }
   ],
   "source": [
    "#MAEの計算\n",
    "train_pred = model.predict(x_train)\n",
    "eval_pred = model.predict(x_test)\n",
    "\n",
    "from sklearn.metrics import r2_score\n",
    "train_score = r2_score(y_train, train_pred)\n",
    "eval_score = r2_score(y_test, eval_pred)\n",
    "train_score, eval_score"
   ]
  },
  {
   "cell_type": "code",
   "execution_count": 30,
   "id": "bbb185a2-61cb-4d10-9887-9c76893c1f17",
   "metadata": {},
   "outputs": [
    {
     "name": "stdout",
     "output_type": "stream",
     "text": [
      "['MAE1 : 0.11043', 'MAE2 : 0.11947']\n"
     ]
    }
   ],
   "source": [
    "# MAEの計算\n",
    "from sklearn.metrics import mean_absolute_error\n",
    "mae1 = mean_absolute_error(y_train, train_pred)\n",
    "mae2 = mean_absolute_error(y_test, eval_pred)\n",
    "print(['MAE1 : {:.5f}'.format(mae1),'MAE2 : {:.5f}'.format(mae2)])  # {:.3f}で小数点以下は3桁で表示"
   ]
  },
  {
   "cell_type": "markdown",
   "id": "7201e34a-b6e6-4145-ac6e-c283e9769f43",
   "metadata": {
    "tags": []
   },
   "source": [
    "## XGBoost"
   ]
  },
  {
   "cell_type": "code",
   "execution_count": 118,
   "id": "6d2581da-da23-4389-86c0-6f40bfe39d42",
   "metadata": {},
   "outputs": [],
   "source": [
    "from sklearn import preprocessing\n",
    "\n",
    "for column in ['取引の事情等', '都道府県名', '地区名', '最寄駅：名称', '間取り', '建物の構造', '用途', '今後の利用目的', '都市計画', '改装']:\n",
    "    le = preprocessing.LabelEncoder()\n",
    "    le.fit(train[column])\n",
    "    train[column] = le.transform(train[column])"
   ]
  },
  {
   "cell_type": "code",
   "execution_count": 129,
   "id": "a033118e-c291-48e7-b37c-871bd27d24db",
   "metadata": {},
   "outputs": [
    {
     "data": {
      "text/plain": [
       "((722574, 17), (722574,))"
      ]
     },
     "execution_count": 129,
     "metadata": {},
     "output_type": "execute_result"
    }
   ],
   "source": [
    "# 目的変数と説明変数の生成\n",
    "#x = train.drop(['取引価格（総額）_log'], axis=1)\n",
    "x = train[col_name]\n",
    "y = train['取引価格（総額）_log']\n",
    "\n",
    "x.shape, y.shape"
   ]
  },
  {
   "cell_type": "code",
   "execution_count": 130,
   "id": "e6a6af03-16b3-4d6c-8812-1d0c3cc55c4b",
   "metadata": {},
   "outputs": [],
   "source": [
    "import xgboost as xgb\n",
    "from sklearn.model_selection import train_test_split\n",
    "from sklearn.metrics import accuracy_score"
   ]
  },
  {
   "cell_type": "code",
   "execution_count": 131,
   "id": "3fb35e5b-1d1f-4fd7-8c96-a90b5b70042c",
   "metadata": {},
   "outputs": [],
   "source": [
    "from sklearn.model_selection import train_test_split\n",
    "\n",
    "x_train, x_test, y_train, y_test =train_test_split(x, y, test_size=0.3, random_state=0)"
   ]
  },
  {
   "cell_type": "code",
   "execution_count": null,
   "id": "5d461f29-57ab-4c8a-9843-5f3c5e231f92",
   "metadata": {},
   "outputs": [],
   "source": [
    "trains = xgb.DMatrix(x_train, y_train)\n",
    "valids = xgb.DMatrix(x_test, y_test)\n",
    "\n",
    "xgb = xgb.XGBRegressor(objective='reg:squarederror',\n",
    "                       booster='gbtree',\n",
    "                       max_depth=12,\n",
    "                       reg_alpha = 0.1,\n",
    "                       reg_lambda = 5,\n",
    "                       min_child_weight = 0.5,\n",
    "                       n_estimators=50000,\n",
    "                       learning_rate=0.01,\n",
    "                       random_state=2525)\n",
    "\n",
    "xgb.fit(x_train, y_train,\n",
    "        eval_set=[(x_train, y_train,),(x_test, y_test)],\n",
    "        eval_metric='mae',\n",
    "        early_stopping_rounds=15,\n",
    "        verbose =100)\n",
    "\n",
    "# 直前に上から実行しないとDMatrixが動かないことが多い"
   ]
  },
  {
   "cell_type": "code",
   "execution_count": 90,
   "id": "7b31ac48-8ab7-4779-8832-f0ef06c588ca",
   "metadata": {},
   "outputs": [
    {
     "name": "stdout",
     "output_type": "stream",
     "text": [
      "Train accuracy: 0.8489746941056899 Test accuracy: 0.8405144079279829\n"
     ]
    }
   ],
   "source": [
    "print(\"Train accuracy:\", xgb.score(x_train, y_train),\n",
    "      \"Test accuracy:\", xgb.score(x_test,y_test))"
   ]
  },
  {
   "cell_type": "code",
   "execution_count": null,
   "id": "fef5919d-ca0f-4204-a346-4ea62ea78148",
   "metadata": {},
   "outputs": [],
   "source": [
    "# MAEの計算\n",
    "from sklearn.metrics import mean_absolute_error\n",
    "mae1 = mean_absolute_error(y_train, train_pred)\n",
    "mae2 = mean_absolute_error(y_test, eval_pred)\n",
    "print(['MAE1 : {:.5f}'.format(mae1),'MAE2 : {:.5f}'.format(mae2)])  # {:.3f}で小数点以下は3桁で表示"
   ]
  },
  {
   "cell_type": "markdown",
   "id": "9afb3a80-c4d4-4059-8397-dc2e4d1ae8f3",
   "metadata": {
    "tags": []
   },
   "source": [
    "## LGBM"
   ]
  },
  {
   "cell_type": "code",
   "execution_count": 7,
   "id": "2adfb806-734b-4ae4-9f5d-d5e04973817d",
   "metadata": {},
   "outputs": [
    {
     "name": "stdout",
     "output_type": "stream",
     "text": [
      "Requirement already satisfied: lightgbm in c:\\users\\kokam\\anaconda3\\lib\\site-packages (3.3.2)\n",
      "Requirement already satisfied: wheel in c:\\users\\kokam\\anaconda3\\lib\\site-packages (from lightgbm) (0.37.1)\n",
      "Requirement already satisfied: scipy in c:\\users\\kokam\\anaconda3\\lib\\site-packages (from lightgbm) (1.7.3)\n",
      "Requirement already satisfied: numpy in c:\\users\\kokam\\anaconda3\\lib\\site-packages (from lightgbm) (1.21.5)\n",
      "Requirement already satisfied: scikit-learn!=0.22.0 in c:\\users\\kokam\\anaconda3\\lib\\site-packages (from lightgbm) (1.0.2)\n",
      "Requirement already satisfied: joblib>=0.11 in c:\\users\\kokam\\anaconda3\\lib\\site-packages (from scikit-learn!=0.22.0->lightgbm) (1.1.0)\n",
      "Requirement already satisfied: threadpoolctl>=2.0.0 in c:\\users\\kokam\\anaconda3\\lib\\site-packages (from scikit-learn!=0.22.0->lightgbm) (2.2.0)\n",
      "Note: you may need to restart the kernel to use updated packages.\n"
     ]
    }
   ],
   "source": [
    "pip install lightgbm"
   ]
  },
  {
   "cell_type": "code",
   "execution_count": 109,
   "id": "e17cc70b-a63a-4d84-bdcf-3ac7ad66abca",
   "metadata": {},
   "outputs": [],
   "source": [
    "import lightgbm as lgb"
   ]
  },
  {
   "cell_type": "code",
   "execution_count": null,
   "id": "1276160d-7482-4b85-a443-e9fff8a4cbfb",
   "metadata": {},
   "outputs": [],
   "source": [
    "x = train.drop(['取引価格（総額）_log'],1).values\n",
    "y = train['取引価格（総額）_log'].values"
   ]
  },
  {
   "cell_type": "code",
   "execution_count": 111,
   "id": "28675492-5a45-470f-b635-50108b270c47",
   "metadata": {},
   "outputs": [],
   "source": [
    "from sklearn.model_selection import train_test_split\n",
    "x_train, x_test, y_train, y_test = train_test_split(x, y, test_size=0.3, random_state=0)"
   ]
  },
  {
   "cell_type": "code",
   "execution_count": null,
   "id": "c0fe45ba-e7fb-4b53-bdf4-97368959ece2",
   "metadata": {},
   "outputs": [],
   "source": [
    "trains = lgb.Dataset(x_train, y_train)\n",
    "valids = lgb.Dataset(x_test, y_test)\n",
    "\n",
    "params = {\"objective\":\"regression\", \"metrics\":\"mae\"}\n",
    "\n",
    "model = lgb.train(params, trains, valid_sets = valids, num_boost_round=1000, early_stopping_rounds=100)\n",
    "\n",
    "#実行後、1000出てくるまで待つ"
   ]
  },
  {
   "cell_type": "code",
   "execution_count": 113,
   "id": "f636158c-b50b-40ca-970e-ed0574ee58b3",
   "metadata": {},
   "outputs": [
    {
     "data": {
      "text/plain": [
       "(0.8011133950587241, 0.7873606362301249)"
      ]
     },
     "execution_count": 113,
     "metadata": {},
     "output_type": "execute_result"
    }
   ],
   "source": [
    "train_pred = model.predict(x_train, num_iteration=model.best_iteration)\n",
    "eval_pred = model.predict(x_test, num_iteration=model.best_iteration)\n",
    "\n",
    "from sklearn.metrics import r2_score\n",
    "train_score = r2_score(y_train, train_pred)\n",
    "eval_score = r2_score(y_test, eval_pred)\n",
    "train_score, eval_score"
   ]
  },
  {
   "cell_type": "code",
   "execution_count": null,
   "id": "cee8a784-61bd-4c9b-b451-4c52dc16a90b",
   "metadata": {},
   "outputs": [],
   "source": [
    "print(train[col_name].columns)"
   ]
  },
  {
   "cell_type": "code",
   "execution_count": null,
   "id": "083debf4-058b-48d7-892d-eedea3ec49d0",
   "metadata": {},
   "outputs": [],
   "source": [
    "lgb.plot_importance(model, figsize=(12,8), max_num_features=50, importance_type='gain')"
   ]
  },
  {
   "cell_type": "markdown",
   "id": "c9459e37-ca28-4160-81ce-c8c59449bb0b",
   "metadata": {},
   "source": [
    "ダミー変数を使う場合\n",
    "\n",
    "https://qiita.com/lystahi/items/9ddcf2cf87df63f857c8"
   ]
  },
  {
   "cell_type": "code",
   "execution_count": 196,
   "id": "203d1f05-f2e4-4305-8d7f-c96b61f9fe20",
   "metadata": {},
   "outputs": [],
   "source": [
    "#ダミー変数で足りない列を補完する\n",
    "\n",
    "def fill_missing_columns(df_a, df_b):\n",
    "    columns_for_b = set(df_a.columns) - set(df_b.columns)\n",
    "    for column in columns_for_b:\n",
    "        df_b[column] = 0"
   ]
  },
  {
   "cell_type": "code",
   "execution_count": 197,
   "id": "9fcf5c3b-0926-437b-87e7-52b76e742aa9",
   "metadata": {
    "tags": []
   },
   "outputs": [],
   "source": [
    "train_t = train.drop(\"取引価格（総額）_log\", axis=1)\n",
    "fill_missing_columns(train_t, test)"
   ]
  },
  {
   "cell_type": "code",
   "execution_count": 198,
   "id": "18e9c901-fd91-4bcf-9d8c-9089f03483d0",
   "metadata": {},
   "outputs": [
    {
     "data": {
      "text/plain": [
       "{'用途_事務所、作業場'}"
      ]
     },
     "execution_count": 198,
     "metadata": {},
     "output_type": "execute_result"
    }
   ],
   "source": [
    "#テストにだけある列も削除する\n",
    "columns = (set(test.columns) - set(train_t.columns))\n",
    "columns"
   ]
  },
  {
   "cell_type": "code",
   "execution_count": 199,
   "id": "e08ceb9a-1718-4280-96ad-b690ced5d2b0",
   "metadata": {},
   "outputs": [
    {
     "data": {
      "text/plain": [
       "((722574, 115), (21005, 115))"
      ]
     },
     "execution_count": 199,
     "metadata": {},
     "output_type": "execute_result"
    }
   ],
   "source": [
    "test = test.drop([\"用途_事務所、作業場\"], axis=1)\n",
    "    \n",
    "train_t.shape, test.shape"
   ]
  },
  {
   "cell_type": "code",
   "execution_count": 168,
   "id": "668951e2-97a3-4b13-b313-7c4dc55e9b9c",
   "metadata": {},
   "outputs": [
    {
     "name": "stdout",
     "output_type": "stream",
     "text": [
      "[]\n",
      "[]\n"
     ]
    },
    {
     "data": {
      "text/plain": [
       "(None, None)"
      ]
     },
     "execution_count": 168,
     "metadata": {},
     "output_type": "execute_result"
    }
   ],
   "source": [
    "# データフレーム同士のカラム名の差分を取得・比較する方法rain.columns)))\n",
    "# testにあって、trainにないもの ／ trainにあって、testにないもの\n",
    "print(list(filter(lambda x: x not in train_t.columns,  test.columns))), print(list(filter(lambda x: x not in test.columns,  train_t.columns)))"
   ]
  },
  {
   "cell_type": "markdown",
   "id": "ca842110-eeb1-4951-8fc6-c9608edf5135",
   "metadata": {},
   "source": [
    "k分割法の場合\n",
    "\n",
    "https://blog.amedama.jp/entry/2018/06/21/235951"
   ]
  },
  {
   "cell_type": "code",
   "execution_count": 64,
   "id": "ca42b155-5f5b-4f98-9f10-06d72e75e8b0",
   "metadata": {},
   "outputs": [],
   "source": [
    "from sklearn.metrics import mean_absolute_error\n",
    "from sklearn.model_selection import KFold"
   ]
  },
  {
   "cell_type": "code",
   "execution_count": null,
   "id": "c991a1ee-70a7-472d-abc6-21a192ef4561",
   "metadata": {},
   "outputs": [],
   "source": [
    "## 交差検証法はnparrayでないとダメっぽいが、そうするとカテゴリ化できないためにLGBMが動かない\n",
    "## →iloc使えばいけるっぽい\n",
    "\n",
    "# # カテゴリ変数の変換\n",
    "# x = train[['市区町村コード', '最寄駅：距離（分）', '面積（㎡）', '建築年', '建ぺい率（％）', '容積率（％）', '取引時点']].values\n",
    "# y = y.values\n",
    "\n",
    "# valid_scores = []\n",
    "# models = []\n",
    "# kf = KFold(n_splits=10, shuffle=True, random_state=42)\n",
    "\n",
    "# # KFoldクラスで分割した回数だけ実行\n",
    "# for fold, (train_indices, valid_indices) in enumerate(kf.split(x)):\n",
    "#     X_train, X_valid = x[train_indices], x[valid_indices]\n",
    "#     y_train, y_valid = y[train_indices], y[valid_indices]\n",
    "#     lgb_train = lgb.Dataset(X_train, y_train)\n",
    "#     lgb_eval = lgb.Dataset(X_valid, y_valid)"
   ]
  },
  {
   "cell_type": "code",
   "execution_count": 47,
   "id": "fa9e5acc-7494-405b-9aa3-29d36878450b",
   "metadata": {},
   "outputs": [],
   "source": [
    "valid_scores = []\n",
    "models = []\n",
    "kf = KFold(n_splits=10, shuffle=True, random_state=42)\n",
    "\n",
    "# KFoldクラスで分割した回数だけ実行\n",
    "for i, j in kf.split(x):\n",
    "    x_train, x_valid = x.iloc[i], x.iloc[j]\n",
    "    y_train, y_valid = y.iloc[i], y.iloc[j]\n",
    "    lgb_train = lgb.Dataset(x_train, y_train)\n",
    "    lgb_eval = lgb.Dataset(x_valid, y_valid)"
   ]
  },
  {
   "cell_type": "code",
   "execution_count": null,
   "id": "855ef17f-ef2f-46c6-b04b-a78bf33acae4",
   "metadata": {},
   "outputs": [],
   "source": [
    "params = {\n",
    "    'objective': 'regression',\n",
    "    'metric': 'mae',\n",
    "    'num_leaves': 3000,\n",
    "    'max_depth': -1,\n",
    "    \"feature_fraction\": 0.8,\n",
    "    'subsample_freq': 1,\n",
    "    \"bagging_fraction\": 0.95,\n",
    "    'min_data_in_leaf': 2,\n",
    "    'learning_rate': 0.03,\n",
    "    \"boosting\": \"gbdt\",\n",
    "    \"lambda_l1\": 0.1,\n",
    "    \"lambda_l2\": 10,\n",
    "    \"verbosity\": -1,\n",
    "    \"random_state\": 42,\n",
    "    \"num_boost_round\": 15000,\n",
    "    \"early_stopping_rounds\": 150\n",
    "}\n",
    "\n",
    "evaluation_results = {}  \n",
    "\n",
    "model = lgb.train(params, lgb_train, valid_sets = lgb_eval, verbose_eval =100)\n",
    "#実行後、1000出てくるまで待つ"
   ]
  },
  {
   "cell_type": "code",
   "execution_count": null,
   "id": "37bbcbd6-7b3b-456c-8e99-79f2ba8b315c",
   "metadata": {},
   "outputs": [],
   "source": [
    "from sklearn.metrics import mean_absolute_error\n",
    "\n",
    "y_valid_pred = model.predict(X_valid)\n",
    "score = mean_absolute_error(y_valid, y_valid_pred)\n",
    "print(f'fold {fold} MAE: {score}')\n",
    "valid_scores.append(score)\n",
    "\n",
    "models.append(model)\n",
    "\n",
    "cv_score = np.mean(valid_scores)\n",
    "print(f'CV score: {cv_score}')"
   ]
  },
  {
   "cell_type": "markdown",
   "id": "87b02e9d-dff7-4dfd-ba93-a27a0cd8570c",
   "metadata": {
    "jp-MarkdownHeadingCollapsed": true,
    "tags": []
   },
   "source": [
    "## ニューラルネットワーク"
   ]
  },
  {
   "cell_type": "code",
   "execution_count": 14,
   "id": "04e6298f-4bb2-4723-84d3-e9701872d7b0",
   "metadata": {},
   "outputs": [],
   "source": [
    "train[cat_cols] = train[cat_cols].fillna(\"欠損\")"
   ]
  },
  {
   "cell_type": "code",
   "execution_count": null,
   "id": "a6dc51f2-ac3d-478f-a3a4-b4514645d936",
   "metadata": {},
   "outputs": [],
   "source": [
    "from sklearn import preprocessing\n",
    "from sklearn.preprocessing import LabelEncoder\n",
    "le = preprocessing.LabelEncoder()\n",
    "\n",
    "train['今後の利用目的'] = le.fit_transform(train['今後の利用目的'])\n",
    "train['取引の事情等'] = le.fit_transform(train['取引の事情等'])\n",
    "train['地区名'] = le.fit_transform(train['地区名'])\n",
    "train['建物の構造'] = le.fit_transform(train['建物の構造'])\n",
    "train['改装'] = le.fit_transform(train['改装'])\n",
    "train['最寄駅：名称'] = le.fit_transform(train['最寄駅：名称'])\n",
    "train['用途'] = le.fit_transform(train['用途'])\n",
    "train['都市計画'] = le.fit_transform(train['都市計画'])\n",
    "train['都道府県名'] = le.fit_transform(train['都道府県名'])\n",
    "train['間取り'] = le.fit_transform(train['間取り'])\n",
    "\n",
    "train[cat_cols].head()"
   ]
  },
  {
   "cell_type": "code",
   "execution_count": null,
   "id": "d363b633-672c-4852-8abb-90d1161fdee5",
   "metadata": {},
   "outputs": [],
   "source": [
    "train = train.fillna(0)\n",
    "train.head()"
   ]
  },
  {
   "cell_type": "code",
   "execution_count": 18,
   "id": "4b61d832-cd05-43e1-8028-fe150e1964dd",
   "metadata": {},
   "outputs": [
    {
     "data": {
      "text/plain": [
       "((722574, 17), (722574,))"
      ]
     },
     "execution_count": 18,
     "metadata": {},
     "output_type": "execute_result"
    }
   ],
   "source": [
    "# 目的変数と説明変数の生成\n",
    "#x = train.drop(['取引価格（総額）_log'], axis=1)\n",
    "x = train[col_name]\n",
    "y = train['取引価格（総額）_log']\n",
    "\n",
    "x.shape, y.shape"
   ]
  },
  {
   "cell_type": "code",
   "execution_count": 19,
   "id": "57dd9da3-7932-4b77-a52d-1bcb13cb9efb",
   "metadata": {},
   "outputs": [],
   "source": [
    "from sklearn.model_selection import train_test_split\n",
    "\n",
    "x_train, x_test, y_train, y_test =train_test_split(x, y, test_size=0.2, random_state=0, shuffle = True)"
   ]
  },
  {
   "cell_type": "code",
   "execution_count": 93,
   "id": "1f6535c0-8d71-4381-b6bf-4980afcc1af1",
   "metadata": {},
   "outputs": [],
   "source": [
    "from sklearn.neural_network import MLPRegressor\n",
    "\n",
    "mlp = MLPRegressor(activation='relu', alpha=0.0001, batch_size='auto', beta_1=0.9,\n",
    "       beta_2=0.999, early_stopping=False, epsilon=1e-08,\n",
    "       hidden_layer_sizes=(10, 100, 200,), learning_rate='constant',\n",
    "       learning_rate_init=0.001, max_iter=100, momentum=0.9,\n",
    "       nesterovs_momentum=True, power_t=0.5, random_state=42,\n",
    "       shuffle=True, solver='adam', tol=0.0001, validation_fraction=0.1,\n",
    "       verbose=True, warm_start=False)"
   ]
  },
  {
   "cell_type": "code",
   "execution_count": 94,
   "id": "8336c3f5-3ba9-40a6-8dc8-8a5e0c32f682",
   "metadata": {},
   "outputs": [],
   "source": [
    "# from sklearn.neural_network import MLPRegressor\n",
    "# mlp = MLPRegressor()"
   ]
  },
  {
   "cell_type": "code",
   "execution_count": null,
   "id": "6454682f-790c-4a0f-a376-fd8fbe4631a7",
   "metadata": {},
   "outputs": [],
   "source": [
    "mlp.fit(x_train, y_train)"
   ]
  },
  {
   "cell_type": "code",
   "execution_count": null,
   "id": "1b660a7c-009c-42b3-b2c8-74b06a106b7b",
   "metadata": {},
   "outputs": [],
   "source": [
    "# MAEの計算\n",
    "from sklearn.metrics import mean_absolute_error\n",
    "\n",
    "train_pred = mlp.predict(x_train) \n",
    "eval_pred = mlp.predict(x_test)\n",
    "\n",
    "mae1 = mean_absolute_error(y_train, train_pred)\n",
    "mae2 = mean_absolute_error(y_test, eval_pred)\n",
    "print(['MAE1 : {:.5f}'.format(mae1),'MAE2 : {:.5f}'.format(mae2)])  # {:.3f}で小数点以下は3桁で表示"
   ]
  },
  {
   "cell_type": "code",
   "execution_count": null,
   "id": "3a44c1d6-05ef-44d3-8be3-befc2f3672e2",
   "metadata": {},
   "outputs": [],
   "source": [
    "# MLPRegressor(hidden_layer_sizes=(10, 10), random_state=42)\n",
    "# ['MAE1 : 0.21493', 'MAE2 : 0.21430']\n",
    "\n",
    "# MLPRegressor(hidden_layer_sizes=(30, 30), random_state=42)\n",
    "# ['MAE1 : 0.18084', 'MAE2 : 0.17992']\n",
    "\n",
    "# MLPRegressor(hidden_layer_sizes=(10, 10, 10, 10), random_state=42)\n",
    "# ['MAE1 : 0.17760', 'MAE2 : 0.17710']\n",
    "\n",
    "# MLPRegressor(hidden_layer_sizes=(20, 20, 20, 20), random_state=42)\n",
    "# ['MAE1 : 0.15567', 'MAE2 : 0.15494']\n",
    "\n",
    "# MLPRegressor(hidden_layer_sizes=(100, 100, 100, 100), random_state=42)\n",
    "# ['MAE1 : 0.14472', 'MAE2 : 0.14433']\n",
    "\n",
    "# MLPRegressor(hidden_layer_sizes=(10, 20, 40, 80, 160), random_state=42)\n",
    "# ['MAE1 : 0.13990', 'MAE2 : 0.13962']\n",
    "\n",
    "# MLPRegressor(hidden_layer_sizes=(20, 20, 20, 20, 20, 20, 20, 20, 20),random_state=42)\n",
    "# ['MAE1 : 0.16923', 'MAE2 : 0.16906']\n",
    "\n",
    "# MLPRegressor(hidden_layer_sizes=(10, 10, 10, 10), random_state=42) learning_rate=0.1  上記は0.001\n",
    "# ['MAE1 : 0.27375', 'MAE2 : 0.27370']"
   ]
  },
  {
   "cell_type": "code",
   "execution_count": null,
   "id": "a6e31738-286e-4c8a-be7f-9d496c40b204",
   "metadata": {},
   "outputs": [],
   "source": [
    "from sklearn import grid_search\n",
    "\n",
    "#ニューラルネットワークの隠れ層の候補をいろいろ定義\n",
    "parameters = {'hidden_layer_sizes' : [(100,), (100, 10), (100, 100, 10), (100, 100, 100, 10)]}\n",
    "\n",
    "#ニューラルネットワークのベストな隠れ層を探索\n",
    "clf = grid_seatch.GridSearchCV(MLPRegressor(), parameters)\n",
    "clf.fit(x_train, y_train)\n",
    "clf.best_params_"
   ]
  }
 ],
 "metadata": {
  "kernelspec": {
   "display_name": "Python 3 (ipykernel)",
   "language": "python",
   "name": "python3"
  },
  "language_info": {
   "codemirror_mode": {
    "name": "ipython",
    "version": 3
   },
   "file_extension": ".py",
   "mimetype": "text/x-python",
   "name": "python",
   "nbconvert_exporter": "python",
   "pygments_lexer": "ipython3",
   "version": "3.9.12"
  }
 },
 "nbformat": 4,
 "nbformat_minor": 5
}
